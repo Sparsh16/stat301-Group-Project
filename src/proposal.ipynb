{
 "cells": [
  {
   "cell_type": "markdown",
   "id": "5e31f60b-bb6a-4719-99be-ca981c93d862",
   "metadata": {},
   "source": [
    "# STAT 301 Project Proposal\n",
    "\n",
    "#### Group 40: Dorothy Ger, Ryan Peng, Sparsh Bajaj, Tony Liang"
   ]
  },
  {
   "cell_type": "markdown",
   "id": "6a4a4d46-1a01-48ec-b384-8921467e4be4",
   "metadata": {
    "tags": []
   },
   "source": [
    "## 1. Introduction"
   ]
  },
  {
   "cell_type": "markdown",
   "id": "f79d521c-5e60-4bcb-a690-23013951a023",
   "metadata": {
    "tags": []
   },
   "source": [
    "### 1.1 Background Information on the topic"
   ]
  },
  {
   "cell_type": "markdown",
   "id": "5132277d-3614-4bb3-a7ba-d3733eb236eb",
   "metadata": {},
   "source": [
    "A motorized vehicle emits around 4.7 tons of carbon dioxide annually (US EPA 2016). To cut down on emissions, bike sharing systems, an innovation from traditional bike rentals, started to emerge as a method of eco-friendly transportation. More than 1000 cities worldwide have implemented a bicycle share program (Lin et al. 2018). From a business perspective, what are factors that effect the number of bicycle rentals became a research area of interest."
   ]
  },
  {
   "cell_type": "markdown",
   "id": "82708b86-e4b0-4dbc-a828-cac3a4b03ff8",
   "metadata": {
    "tags": []
   },
   "source": [
    "### 1.2 The Question"
   ]
  },
  {
   "cell_type": "markdown",
   "id": "4fcdac5c-79d1-4149-9392-b3ec37708303",
   "metadata": {
    "tags": []
   },
   "source": [
    "Using the programming language R as a tool for our analysis, we will be attempting to answer the research question: \n",
    "\n",
    "   > How are our predictor variables statistically significant for predicting the response variable?\n",
    "\n",
    "**PHRASE THE QUESTION BETTER HERE PLEASE** ^\n"
   ]
  },
  {
   "cell_type": "markdown",
   "id": "54b34877-f173-42f7-892c-75083023885a",
   "metadata": {
    "tags": []
   },
   "source": [
    "### 1.3 The Dataset"
   ]
  },
  {
   "cell_type": "markdown",
   "id": "9b066e10-8a88-42b6-95d2-09de2bb89b0b",
   "metadata": {},
   "source": [
    "In this report, we will be working on a dataset named “Nike Sharing Dataset” from the [UCI Machine Learning Repository](https://archive.ics.uci.edu/ml/datasets/Bike+Sharing+Dataset), which includes detailed data about rental bikes in Capital bikeshare system. This dataset contains columns with information of: hourly and daily count (`cnt`) of rental bikes, `dates`, `season`, `weather`, etc. We will be looking particularly at which columns can serve as input variables for a predictive model for **daily bike rental counts**. \n",
    "\n"
   ]
  },
  {
   "cell_type": "markdown",
   "id": "b4ad4de0-604e-4fec-b121-cee8f259ecba",
   "metadata": {},
   "source": [
    "## 2. Preliminary Results"
   ]
  },
  {
   "cell_type": "markdown",
   "id": "058b0dcd-d171-4467-a693-55d43052dfca",
   "metadata": {
    "tags": []
   },
   "source": [
    "### 2.0 Load libraries "
   ]
  },
  {
   "cell_type": "code",
   "execution_count": 1,
   "id": "224547f9-0d11-471e-bf7c-8ffd9aa92e3c",
   "metadata": {},
   "outputs": [
    {
     "name": "stderr",
     "output_type": "stream",
     "text": [
      "Warning message:\n",
      "\"package 'tidyverse' was built under R version 4.2.2\"\n",
      "── \u001b[1mAttaching packages\u001b[22m ─────────────────────────────────────────────────────────────────────────────── tidyverse 1.3.2 ──\n",
      "\u001b[32m✔\u001b[39m \u001b[34mggplot2\u001b[39m 3.3.6     \u001b[32m✔\u001b[39m \u001b[34mpurrr  \u001b[39m 0.3.4\n",
      "\u001b[32m✔\u001b[39m \u001b[34mtibble \u001b[39m 3.1.8     \u001b[32m✔\u001b[39m \u001b[34mdplyr  \u001b[39m 1.0.9\n",
      "\u001b[32m✔\u001b[39m \u001b[34mtidyr  \u001b[39m 1.2.0     \u001b[32m✔\u001b[39m \u001b[34mstringr\u001b[39m 1.4.0\n",
      "\u001b[32m✔\u001b[39m \u001b[34mreadr  \u001b[39m 2.1.2     \u001b[32m✔\u001b[39m \u001b[34mforcats\u001b[39m 0.5.1\n",
      "── \u001b[1mConflicts\u001b[22m ────────────────────────────────────────────────────────────────────────────────── tidyverse_conflicts() ──\n",
      "\u001b[31m✖\u001b[39m \u001b[34mdplyr\u001b[39m::\u001b[32mfilter()\u001b[39m masks \u001b[34mstats\u001b[39m::filter()\n",
      "\u001b[31m✖\u001b[39m \u001b[34mdplyr\u001b[39m::\u001b[32mlag()\u001b[39m    masks \u001b[34mstats\u001b[39m::lag()\n",
      "Registered S3 method overwritten by 'GGally':\n",
      "  method from   \n",
      "  +.gg   ggplot2\n",
      "\n"
     ]
    }
   ],
   "source": [
    "# Load required libraries\n",
    "library(tidyverse)\n",
    "library(repr)\n",
    "library(infer)\n",
    "library(cowplot)\n",
    "library(broom)\n",
    "library(GGally)\n",
    "library(httr)"
   ]
  },
  {
   "cell_type": "markdown",
   "id": "f3935ca0-eed5-4c5d-9a3f-bd6ae4a14ab5",
   "metadata": {},
   "source": [
    "### 2.1 Read data and Wrangling"
   ]
  },
  {
   "cell_type": "markdown",
   "id": "c2dd3462-34c2-4db9-9b3a-4ca0a2051462",
   "metadata": {},
   "source": [
    "We will first download a zip that contains both hourly and daily data of the bike sharing dataset, and use the **daily bike data** only as mentioned earlier from our introduction, and load it as dataframe. **Note**: The dataset can be found [here](https://archive.ics.uci.edu/ml/datasets/Bike+Sharing+Dataset)."
   ]
  },
  {
   "cell_type": "code",
   "execution_count": 2,
   "id": "51db8b7c-06be-4a65-abe4-a4fa7ebcb6d2",
   "metadata": {},
   "outputs": [
    {
     "data": {
      "text/plain": [
       "Response [https://archive.ics.uci.edu/ml/machine-learning-databases/00275/Bike-Sharing-Dataset.zip]\n",
       "  Date: 2022-11-05 00:48\n",
       "  Status: 200\n",
       "  Content-Type: application/x-httpd-php\n",
       "  Size: 280 kB\n",
       "<ON DISK>  C:\\Users\\chunq\\AppData\\Local\\Temp\\RtmpI9mRHw\\file8d044be61d8.zipNULL"
      ]
     },
     "metadata": {},
     "output_type": "display_data"
    },
    {
     "name": "stderr",
     "output_type": "stream",
     "text": [
      "\u001b[1mRows: \u001b[22m\u001b[34m731\u001b[39m \u001b[1mColumns: \u001b[22m\u001b[34m16\u001b[39m\n",
      "\u001b[36m──\u001b[39m \u001b[1mColumn specification\u001b[22m \u001b[36m────────────────────────────────────────────────────────────────────────────────────────────────\u001b[39m\n",
      "\u001b[1mDelimiter:\u001b[22m \",\"\n",
      "\u001b[32mdbl\u001b[39m  (15): instant, season, yr, mnth, holiday, weekday, workingday, weathers...\n",
      "\u001b[34mdate\u001b[39m  (1): dteday\n",
      "\n",
      "\u001b[36mℹ\u001b[39m Use `spec()` to retrieve the full column specification for this data.\n",
      "\u001b[36mℹ\u001b[39m Specify the column types or set `show_col_types = FALSE` to quiet this message.\n"
     ]
    },
    {
     "data": {
      "text/html": [
       "<table class=\"dataframe\">\n",
       "<caption>A tibble: 6 × 16</caption>\n",
       "<thead>\n",
       "\t<tr><th scope=col>instant</th><th scope=col>dteday</th><th scope=col>season</th><th scope=col>yr</th><th scope=col>mnth</th><th scope=col>holiday</th><th scope=col>weekday</th><th scope=col>workingday</th><th scope=col>weathersit</th><th scope=col>temp</th><th scope=col>atemp</th><th scope=col>hum</th><th scope=col>windspeed</th><th scope=col>casual</th><th scope=col>registered</th><th scope=col>cnt</th></tr>\n",
       "\t<tr><th scope=col>&lt;dbl&gt;</th><th scope=col>&lt;date&gt;</th><th scope=col>&lt;dbl&gt;</th><th scope=col>&lt;dbl&gt;</th><th scope=col>&lt;dbl&gt;</th><th scope=col>&lt;dbl&gt;</th><th scope=col>&lt;dbl&gt;</th><th scope=col>&lt;dbl&gt;</th><th scope=col>&lt;dbl&gt;</th><th scope=col>&lt;dbl&gt;</th><th scope=col>&lt;dbl&gt;</th><th scope=col>&lt;dbl&gt;</th><th scope=col>&lt;dbl&gt;</th><th scope=col>&lt;dbl&gt;</th><th scope=col>&lt;dbl&gt;</th><th scope=col>&lt;dbl&gt;</th></tr>\n",
       "</thead>\n",
       "<tbody>\n",
       "\t<tr><td>1</td><td>2011-01-01</td><td>1</td><td>0</td><td>1</td><td>0</td><td>6</td><td>0</td><td>2</td><td>0.344167</td><td>0.363625</td><td>0.805833</td><td>0.1604460</td><td>331</td><td> 654</td><td> 985</td></tr>\n",
       "\t<tr><td>2</td><td>2011-01-02</td><td>1</td><td>0</td><td>1</td><td>0</td><td>0</td><td>0</td><td>2</td><td>0.363478</td><td>0.353739</td><td>0.696087</td><td>0.2485390</td><td>131</td><td> 670</td><td> 801</td></tr>\n",
       "\t<tr><td>3</td><td>2011-01-03</td><td>1</td><td>0</td><td>1</td><td>0</td><td>1</td><td>1</td><td>1</td><td>0.196364</td><td>0.189405</td><td>0.437273</td><td>0.2483090</td><td>120</td><td>1229</td><td>1349</td></tr>\n",
       "\t<tr><td>4</td><td>2011-01-04</td><td>1</td><td>0</td><td>1</td><td>0</td><td>2</td><td>1</td><td>1</td><td>0.200000</td><td>0.212122</td><td>0.590435</td><td>0.1602960</td><td>108</td><td>1454</td><td>1562</td></tr>\n",
       "\t<tr><td>5</td><td>2011-01-05</td><td>1</td><td>0</td><td>1</td><td>0</td><td>3</td><td>1</td><td>1</td><td>0.226957</td><td>0.229270</td><td>0.436957</td><td>0.1869000</td><td> 82</td><td>1518</td><td>1600</td></tr>\n",
       "\t<tr><td>6</td><td>2011-01-06</td><td>1</td><td>0</td><td>1</td><td>0</td><td>4</td><td>1</td><td>1</td><td>0.204348</td><td>0.233209</td><td>0.518261</td><td>0.0895652</td><td> 88</td><td>1518</td><td>1606</td></tr>\n",
       "</tbody>\n",
       "</table>\n"
      ],
      "text/latex": [
       "A tibble: 6 × 16\n",
       "\\begin{tabular}{llllllllllllllll}\n",
       " instant & dteday & season & yr & mnth & holiday & weekday & workingday & weathersit & temp & atemp & hum & windspeed & casual & registered & cnt\\\\\n",
       " <dbl> & <date> & <dbl> & <dbl> & <dbl> & <dbl> & <dbl> & <dbl> & <dbl> & <dbl> & <dbl> & <dbl> & <dbl> & <dbl> & <dbl> & <dbl>\\\\\n",
       "\\hline\n",
       "\t 1 & 2011-01-01 & 1 & 0 & 1 & 0 & 6 & 0 & 2 & 0.344167 & 0.363625 & 0.805833 & 0.1604460 & 331 &  654 &  985\\\\\n",
       "\t 2 & 2011-01-02 & 1 & 0 & 1 & 0 & 0 & 0 & 2 & 0.363478 & 0.353739 & 0.696087 & 0.2485390 & 131 &  670 &  801\\\\\n",
       "\t 3 & 2011-01-03 & 1 & 0 & 1 & 0 & 1 & 1 & 1 & 0.196364 & 0.189405 & 0.437273 & 0.2483090 & 120 & 1229 & 1349\\\\\n",
       "\t 4 & 2011-01-04 & 1 & 0 & 1 & 0 & 2 & 1 & 1 & 0.200000 & 0.212122 & 0.590435 & 0.1602960 & 108 & 1454 & 1562\\\\\n",
       "\t 5 & 2011-01-05 & 1 & 0 & 1 & 0 & 3 & 1 & 1 & 0.226957 & 0.229270 & 0.436957 & 0.1869000 &  82 & 1518 & 1600\\\\\n",
       "\t 6 & 2011-01-06 & 1 & 0 & 1 & 0 & 4 & 1 & 1 & 0.204348 & 0.233209 & 0.518261 & 0.0895652 &  88 & 1518 & 1606\\\\\n",
       "\\end{tabular}\n"
      ],
      "text/markdown": [
       "\n",
       "A tibble: 6 × 16\n",
       "\n",
       "| instant &lt;dbl&gt; | dteday &lt;date&gt; | season &lt;dbl&gt; | yr &lt;dbl&gt; | mnth &lt;dbl&gt; | holiday &lt;dbl&gt; | weekday &lt;dbl&gt; | workingday &lt;dbl&gt; | weathersit &lt;dbl&gt; | temp &lt;dbl&gt; | atemp &lt;dbl&gt; | hum &lt;dbl&gt; | windspeed &lt;dbl&gt; | casual &lt;dbl&gt; | registered &lt;dbl&gt; | cnt &lt;dbl&gt; |\n",
       "|---|---|---|---|---|---|---|---|---|---|---|---|---|---|---|---|\n",
       "| 1 | 2011-01-01 | 1 | 0 | 1 | 0 | 6 | 0 | 2 | 0.344167 | 0.363625 | 0.805833 | 0.1604460 | 331 |  654 |  985 |\n",
       "| 2 | 2011-01-02 | 1 | 0 | 1 | 0 | 0 | 0 | 2 | 0.363478 | 0.353739 | 0.696087 | 0.2485390 | 131 |  670 |  801 |\n",
       "| 3 | 2011-01-03 | 1 | 0 | 1 | 0 | 1 | 1 | 1 | 0.196364 | 0.189405 | 0.437273 | 0.2483090 | 120 | 1229 | 1349 |\n",
       "| 4 | 2011-01-04 | 1 | 0 | 1 | 0 | 2 | 1 | 1 | 0.200000 | 0.212122 | 0.590435 | 0.1602960 | 108 | 1454 | 1562 |\n",
       "| 5 | 2011-01-05 | 1 | 0 | 1 | 0 | 3 | 1 | 1 | 0.226957 | 0.229270 | 0.436957 | 0.1869000 |  82 | 1518 | 1600 |\n",
       "| 6 | 2011-01-06 | 1 | 0 | 1 | 0 | 4 | 1 | 1 | 0.204348 | 0.233209 | 0.518261 | 0.0895652 |  88 | 1518 | 1606 |\n",
       "\n"
      ],
      "text/plain": [
       "  instant dteday     season yr mnth holiday weekday workingday weathersit\n",
       "1 1       2011-01-01 1      0  1    0       6       0          2         \n",
       "2 2       2011-01-02 1      0  1    0       0       0          2         \n",
       "3 3       2011-01-03 1      0  1    0       1       1          1         \n",
       "4 4       2011-01-04 1      0  1    0       2       1          1         \n",
       "5 5       2011-01-05 1      0  1    0       3       1          1         \n",
       "6 6       2011-01-06 1      0  1    0       4       1          1         \n",
       "  temp     atemp    hum      windspeed casual registered cnt \n",
       "1 0.344167 0.363625 0.805833 0.1604460 331     654        985\n",
       "2 0.363478 0.353739 0.696087 0.2485390 131     670        801\n",
       "3 0.196364 0.189405 0.437273 0.2483090 120    1229       1349\n",
       "4 0.200000 0.212122 0.590435 0.1602960 108    1454       1562\n",
       "5 0.226957 0.229270 0.436957 0.1869000  82    1518       1600\n",
       "6 0.204348 0.233209 0.518261 0.0895652  88    1518       1606"
      ]
     },
     "metadata": {},
     "output_type": "display_data"
    }
   ],
   "source": [
    "# Downloads zip to tempfile\n",
    "BIKE_URL <- \"https://archive.ics.uci.edu/ml/machine-learning-databases/00275/Bike-Sharing-Dataset.zip\"\n",
    "GET(BIKE_URL, write_disk(tf <- tempfile(fileext = \".zip\")))\n",
    "# Unzip tempfile and disgards the hourly data and use daily only\n",
    "bike_sharing_day <- read_csv(unz(tf, \"day.csv\"))\n",
    "# Unlink/remove the temporary file\n",
    "unlink(tf)\n",
    "head(bike_sharing_day)"
   ]
  },
  {
   "cell_type": "markdown",
   "id": "4a29719e-2ad8-406f-a853-2edc1e9b8544",
   "metadata": {},
   "source": [
    "Before removing any columns, we are going to get some summary statistics of all variables to check how is the data distributed."
   ]
  },
  {
   "cell_type": "code",
   "execution_count": 11,
   "id": "e568ef32-7f46-43b4-9d9e-f7aa236da930",
   "metadata": {},
   "outputs": [
    {
     "data": {
      "text/plain": [
       "    instant          dteday               season            yr        \n",
       " Min.   :  1.0   Min.   :2011-01-01   Min.   :1.000   Min.   :0.0000  \n",
       " 1st Qu.:183.5   1st Qu.:2011-07-02   1st Qu.:2.000   1st Qu.:0.0000  \n",
       " Median :366.0   Median :2012-01-01   Median :3.000   Median :1.0000  \n",
       " Mean   :366.0   Mean   :2012-01-01   Mean   :2.497   Mean   :0.5007  \n",
       " 3rd Qu.:548.5   3rd Qu.:2012-07-01   3rd Qu.:3.000   3rd Qu.:1.0000  \n",
       " Max.   :731.0   Max.   :2012-12-31   Max.   :4.000   Max.   :1.0000  \n",
       "      mnth          holiday           weekday        workingday   \n",
       " Min.   : 1.00   Min.   :0.00000   Min.   :0.000   Min.   :0.000  \n",
       " 1st Qu.: 4.00   1st Qu.:0.00000   1st Qu.:1.000   1st Qu.:0.000  \n",
       " Median : 7.00   Median :0.00000   Median :3.000   Median :1.000  \n",
       " Mean   : 6.52   Mean   :0.02873   Mean   :2.997   Mean   :0.684  \n",
       " 3rd Qu.:10.00   3rd Qu.:0.00000   3rd Qu.:5.000   3rd Qu.:1.000  \n",
       " Max.   :12.00   Max.   :1.00000   Max.   :6.000   Max.   :1.000  \n",
       "   weathersit         temp             atemp              hum        \n",
       " Min.   :1.000   Min.   :0.05913   Min.   :0.07907   Min.   :0.0000  \n",
       " 1st Qu.:1.000   1st Qu.:0.33708   1st Qu.:0.33784   1st Qu.:0.5200  \n",
       " Median :1.000   Median :0.49833   Median :0.48673   Median :0.6267  \n",
       " Mean   :1.395   Mean   :0.49538   Mean   :0.47435   Mean   :0.6279  \n",
       " 3rd Qu.:2.000   3rd Qu.:0.65542   3rd Qu.:0.60860   3rd Qu.:0.7302  \n",
       " Max.   :3.000   Max.   :0.86167   Max.   :0.84090   Max.   :0.9725  \n",
       "   windspeed           casual         registered        cnt      \n",
       " Min.   :0.02239   Min.   :   2.0   Min.   :  20   Min.   :  22  \n",
       " 1st Qu.:0.13495   1st Qu.: 315.5   1st Qu.:2497   1st Qu.:3152  \n",
       " Median :0.18097   Median : 713.0   Median :3662   Median :4548  \n",
       " Mean   :0.19049   Mean   : 848.2   Mean   :3656   Mean   :4504  \n",
       " 3rd Qu.:0.23321   3rd Qu.:1096.0   3rd Qu.:4776   3rd Qu.:5956  \n",
       " Max.   :0.50746   Max.   :3410.0   Max.   :6946   Max.   :8714  "
      ]
     },
     "metadata": {},
     "output_type": "display_data"
    }
   ],
   "source": [
    "summary(bike_sharing_day)"
   ]
  },
  {
   "cell_type": "markdown",
   "id": "9de8358d-8801-446e-a270-55d260a9fd3c",
   "metadata": {},
   "source": [
    "We noticed `temp`, `atemp`, `hum`, `windspeed` are all \"normalized\" variables given from the originial dataset description according to some transformations. Moreover, we have some time variables like: `weekday`, `mnth`, `dteday`, whereas we are going to discard these for easiness of modelling and not consider it at all when selecting variables. Also, according to the original dataset, we know that `cnt` = `casual` + `registered`, hence this could likely cause collinearity problem later, and we would only focus on `cnt` as a response variable. Also, similar variables like holiday, workingday might have similar issue, hence we would keep one of the two."
   ]
  },
  {
   "cell_type": "code",
   "execution_count": 15,
   "id": "07a2fa4a-2659-4ee9-8bd0-c3b07589d877",
   "metadata": {},
   "outputs": [
    {
     "data": {
      "text/html": [
       "<table class=\"dataframe\">\n",
       "<caption>A tibble: 6 × 8</caption>\n",
       "<thead>\n",
       "\t<tr><th scope=col>yr</th><th scope=col>workingday</th><th scope=col>weathersit</th><th scope=col>temp</th><th scope=col>atemp</th><th scope=col>hum</th><th scope=col>windspeed</th><th scope=col>cnt</th></tr>\n",
       "\t<tr><th scope=col>&lt;fct&gt;</th><th scope=col>&lt;fct&gt;</th><th scope=col>&lt;fct&gt;</th><th scope=col>&lt;dbl&gt;</th><th scope=col>&lt;dbl&gt;</th><th scope=col>&lt;dbl&gt;</th><th scope=col>&lt;dbl&gt;</th><th scope=col>&lt;dbl&gt;</th></tr>\n",
       "</thead>\n",
       "<tbody>\n",
       "\t<tr><td>0</td><td>0</td><td>2</td><td>0.344167</td><td>0.363625</td><td>0.805833</td><td>0.1604460</td><td> 985</td></tr>\n",
       "\t<tr><td>0</td><td>0</td><td>2</td><td>0.363478</td><td>0.353739</td><td>0.696087</td><td>0.2485390</td><td> 801</td></tr>\n",
       "\t<tr><td>0</td><td>1</td><td>1</td><td>0.196364</td><td>0.189405</td><td>0.437273</td><td>0.2483090</td><td>1349</td></tr>\n",
       "\t<tr><td>0</td><td>1</td><td>1</td><td>0.200000</td><td>0.212122</td><td>0.590435</td><td>0.1602960</td><td>1562</td></tr>\n",
       "\t<tr><td>0</td><td>1</td><td>1</td><td>0.226957</td><td>0.229270</td><td>0.436957</td><td>0.1869000</td><td>1600</td></tr>\n",
       "\t<tr><td>0</td><td>1</td><td>1</td><td>0.204348</td><td>0.233209</td><td>0.518261</td><td>0.0895652</td><td>1606</td></tr>\n",
       "</tbody>\n",
       "</table>\n"
      ],
      "text/latex": [
       "A tibble: 6 × 8\n",
       "\\begin{tabular}{llllllll}\n",
       " yr & workingday & weathersit & temp & atemp & hum & windspeed & cnt\\\\\n",
       " <fct> & <fct> & <fct> & <dbl> & <dbl> & <dbl> & <dbl> & <dbl>\\\\\n",
       "\\hline\n",
       "\t 0 & 0 & 2 & 0.344167 & 0.363625 & 0.805833 & 0.1604460 &  985\\\\\n",
       "\t 0 & 0 & 2 & 0.363478 & 0.353739 & 0.696087 & 0.2485390 &  801\\\\\n",
       "\t 0 & 1 & 1 & 0.196364 & 0.189405 & 0.437273 & 0.2483090 & 1349\\\\\n",
       "\t 0 & 1 & 1 & 0.200000 & 0.212122 & 0.590435 & 0.1602960 & 1562\\\\\n",
       "\t 0 & 1 & 1 & 0.226957 & 0.229270 & 0.436957 & 0.1869000 & 1600\\\\\n",
       "\t 0 & 1 & 1 & 0.204348 & 0.233209 & 0.518261 & 0.0895652 & 1606\\\\\n",
       "\\end{tabular}\n"
      ],
      "text/markdown": [
       "\n",
       "A tibble: 6 × 8\n",
       "\n",
       "| yr &lt;fct&gt; | workingday &lt;fct&gt; | weathersit &lt;fct&gt; | temp &lt;dbl&gt; | atemp &lt;dbl&gt; | hum &lt;dbl&gt; | windspeed &lt;dbl&gt; | cnt &lt;dbl&gt; |\n",
       "|---|---|---|---|---|---|---|---|\n",
       "| 0 | 0 | 2 | 0.344167 | 0.363625 | 0.805833 | 0.1604460 |  985 |\n",
       "| 0 | 0 | 2 | 0.363478 | 0.353739 | 0.696087 | 0.2485390 |  801 |\n",
       "| 0 | 1 | 1 | 0.196364 | 0.189405 | 0.437273 | 0.2483090 | 1349 |\n",
       "| 0 | 1 | 1 | 0.200000 | 0.212122 | 0.590435 | 0.1602960 | 1562 |\n",
       "| 0 | 1 | 1 | 0.226957 | 0.229270 | 0.436957 | 0.1869000 | 1600 |\n",
       "| 0 | 1 | 1 | 0.204348 | 0.233209 | 0.518261 | 0.0895652 | 1606 |\n",
       "\n"
      ],
      "text/plain": [
       "  yr workingday weathersit temp     atemp    hum      windspeed cnt \n",
       "1 0  0          2          0.344167 0.363625 0.805833 0.1604460  985\n",
       "2 0  0          2          0.363478 0.353739 0.696087 0.2485390  801\n",
       "3 0  1          1          0.196364 0.189405 0.437273 0.2483090 1349\n",
       "4 0  1          1          0.200000 0.212122 0.590435 0.1602960 1562\n",
       "5 0  1          1          0.226957 0.229270 0.436957 0.1869000 1600\n",
       "6 0  1          1          0.204348 0.233209 0.518261 0.0895652 1606"
      ]
     },
     "metadata": {},
     "output_type": "display_data"
    }
   ],
   "source": [
    "# Wrangling data\n",
    "# Selecting relevant/meaningful columns\n",
    "# Transform categorical variables to factors\n",
    "bike_wrangled <- bike_sharing_day %>%\n",
    "                 select(yr, workingday:windspeed, cnt) %>%\n",
    "                 mutate(across(yr:weathersit, as.factor))\n",
    "head(bike_wrangled, 6)"
   ]
  },
  {
   "cell_type": "markdown",
   "id": "8f7d80be-8619-4349-8b32-68d5f9b3ab91",
   "metadata": {},
   "source": [
    "Next, we are also checking if there exist further collinearity problem in the remaining numeric variables by plotting a heat map of these predictors."
   ]
  },
  {
   "cell_type": "code",
   "execution_count": 26,
   "id": "ceba15ab-7595-4c4b-901d-1964842be500",
   "metadata": {},
   "outputs": [],
   "source": [
    "# This cell is to control plot size\n",
    "options(repr.plot.width = 15, repr.plot.height = 15)"
   ]
  },
  {
   "cell_type": "code",
   "execution_count": 29,
   "id": "999f73a0-c82d-4c2d-9f04-36236d5fc876",
   "metadata": {},
   "outputs": [
    {
     "data": {
      "image/png": "[encoded data removed]",
      "text/plain": [
       "plot without title"
      ]
     },
     "metadata": {
      "image/png": {
       "height": 900,
       "width": 900
      }
     },
     "output_type": "display_data"
    }
   ],
   "source": [
    "# Correlation marix of numeric predictors\n",
    "corr_mat <- cor(bike_wrangled %>% select_if(is.numeric)) %>%\n",
    "  as.data.frame() %>%\n",
    "  rownames_to_column(\"var1\") %>%\n",
    "  pivot_longer(-var1, names_to = \"var2\", values_to = \"corr\")\n",
    "\n",
    "# Plot heat map of correlation matrix\n",
    "plot_corr_matrix <- corr_mat %>%\n",
    "  ggplot(aes(x = var1, y = var2)) +\n",
    "  geom_tile(aes(fill = corr), color = \"white\") +\n",
    "  scale_fill_distiller(\"Correlation Coefficient \\n\",\n",
    "    palette =  \"YlOrRd\",\n",
    "    direction = 1, limits = c(-1, 1)\n",
    "  ) +\n",
    "  labs(x = \"Var 1\", y = \"Var 2\") +\n",
    "  theme_minimal() +\n",
    "  theme(\n",
    "    axis.text.x = element_text(\n",
    "      angle = 45, vjust = 1,\n",
    "      size = 18, hjust = 1\n",
    "    ),\n",
    "    axis.text.y = element_text(\n",
    "      vjust = 1,\n",
    "      size = 18, hjust = 1\n",
    "    ),\n",
    "    legend.title = element_text(size = 18, face = \"bold\"),\n",
    "    legend.text = element_text(size = 18),\n",
    "    legend.key.size = unit(2, \"cm\")\n",
    "  ) +\n",
    "  coord_fixed() +\n",
    "  geom_text(aes(x = var1, var2, label = round(corr, 2)), color = \"black\", size = 6)\n",
    "plot_corr_matrix"
   ]
  },
  {
   "cell_type": "markdown",
   "id": "4fb807df-b085-4ccc-972d-9f71c4e5bb18",
   "metadata": {},
   "source": [
    "We notice `temp` and `atemp`"
   ]
  },
  {
   "cell_type": "markdown",
   "id": "610508ca-02ac-4c5d-b91d-acc0b7b6bf31",
   "metadata": {},
   "source": [
    "## 3. Methods"
   ]
  },
  {
   "cell_type": "code",
   "execution_count": null,
   "id": "829d7dcb-8448-45fb-8f13-b14b748475d5",
   "metadata": {},
   "outputs": [],
   "source": []
  },
  {
   "cell_type": "markdown",
   "id": "04916819-795c-409f-840a-e632d9be67c5",
   "metadata": {
    "tags": []
   },
   "source": [
    "## 4. References"
   ]
  },
  {
   "cell_type": "markdown",
   "id": "cc29b70e-6802-4844-b330-818b5c834b3d",
   "metadata": {},
   "source": [
    "US EPA, O. (2016). *Greenhouse Gas Emissions from a Typical Passenger Vehicle*. US EPA. https://www.epa.gov/greenvehicles/greenhouse-gas-emissions-typical-passenger-vehicle-0\n",
    "\n",
    "Lin, L., He, Z., & Peeta, S. (2018). *Predicting station-level hourly demand in a large-scale bike-sharing network: A graph convolutional neural network approach* Transportation Research. Part C, Emerging Technologies, 97, 258-276. https://doi.org/10.1016/j.trc.2018.10.011\n"
   ]
  }
 ],
 "metadata": {
  "kernelspec": {
   "display_name": "R",
   "language": "R",
   "name": "ir"
  },
  "language_info": {
   "codemirror_mode": "r",
   "file_extension": ".r",
   "mimetype": "text/x-r-source",
   "name": "R",
   "pygments_lexer": "r",
   "version": "4.2.1"
  }
 },
 "nbformat": 4,
 "nbformat_minor": 5
}
