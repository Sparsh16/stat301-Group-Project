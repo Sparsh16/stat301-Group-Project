{
 "cells": [
  {
   "cell_type": "markdown",
   "id": "5e31f60b-bb6a-4719-99be-ca981c93d862",
   "metadata": {},
   "source": [
    "# STAT 301 Project Proposal\n",
    "\n",
    "#### Group 40: Dorothy Ger, Ryan Peng, Sparsh Bajaj, Tony Liang"
   ]
  },
  {
   "cell_type": "markdown",
   "id": "6a4a4d46-1a01-48ec-b384-8921467e4be4",
   "metadata": {
    "jp-MarkdownHeadingCollapsed": true,
    "tags": []
   },
   "source": [
    "## 1. Introduction"
   ]
  },
  {
   "cell_type": "markdown",
   "id": "f79d521c-5e60-4bcb-a690-23013951a023",
   "metadata": {
    "jp-MarkdownHeadingCollapsed": true,
    "tags": []
   },
   "source": [
    "### 1.1 Background Information on the topic"
   ]
  },
  {
   "cell_type": "markdown",
   "id": "5132277d-3614-4bb3-a7ba-d3733eb236eb",
   "metadata": {},
   "source": [
    "A motorized vehicle emits around 4.7 tons of carbon dioxide annually (US EPA 2016). To cut down on emissions, bike sharing systems, an innovation from traditional bike rentals, started to emerge as a method of eco-friendly transportation. More than 1000 cities worldwide have implemented a bicycle share program (Lin et al. 2018). From a business perspective, what are factors that effect the number of bicycle rentals became a research area of interest."
   ]
  },
  {
   "cell_type": "markdown",
   "id": "82708b86-e4b0-4dbc-a828-cac3a4b03ff8",
   "metadata": {
    "jp-MarkdownHeadingCollapsed": true,
    "tags": []
   },
   "source": [
    "### 1.2 The Question"
   ]
  },
  {
   "cell_type": "markdown",
   "id": "4fcdac5c-79d1-4149-9392-b3ec37708303",
   "metadata": {
    "tags": []
   },
   "source": [
    "Using the programming language R as a tool for our analysis, we will be attempting to answer the research question: \n",
    "\n",
    "   > How are our predictor variables statistically significant for predicting the response variable?\n",
    "\n",
    "**PHRASE THE QUESTION BETTER HERE PLEASE** ^\n"
   ]
  },
  {
   "cell_type": "markdown",
   "id": "54b34877-f173-42f7-892c-75083023885a",
   "metadata": {
    "tags": []
   },
   "source": [
    "### 1.3 The Dataset"
   ]
  },
  {
   "cell_type": "markdown",
   "id": "9b066e10-8a88-42b6-95d2-09de2bb89b0b",
   "metadata": {},
   "source": [
    "In this report, we will be working on a dataset named “Nike Sharing Dataset” from the [UCI Machine Learning Repository](https://archive.ics.uci.edu/ml/datasets/Bike+Sharing+Dataset), which includes detailed data about rental bikes in Capital bikeshare system. This dataset contains columns with information of: hourly and daily count (`cnt`) of rental bikes, `dates`, `season`, `weather`, etc. We will be looking particularly at which columns can serve as input variables for a predictive model for **daily bike rental counts**.\n"
   ]
  },
  {
   "cell_type": "markdown",
   "id": "b4ad4de0-604e-4fec-b121-cee8f259ecba",
   "metadata": {},
   "source": [
    "## 2. Preliminary Results"
   ]
  },
  {
   "cell_type": "code",
   "execution_count": null,
   "id": "82eeabd8-c26d-4ebc-b79b-037176031383",
   "metadata": {},
   "outputs": [],
   "source": []
  },
  {
   "cell_type": "markdown",
   "id": "610508ca-02ac-4c5d-b91d-acc0b7b6bf31",
   "metadata": {},
   "source": [
    "## 3. Methods"
   ]
  },
  {
   "cell_type": "code",
   "execution_count": null,
   "id": "829d7dcb-8448-45fb-8f13-b14b748475d5",
   "metadata": {},
   "outputs": [],
   "source": []
  },
  {
   "cell_type": "markdown",
   "id": "04916819-795c-409f-840a-e632d9be67c5",
   "metadata": {
    "tags": []
   },
   "source": [
    "## 4. References"
   ]
  },
  {
   "cell_type": "markdown",
   "id": "cc29b70e-6802-4844-b330-818b5c834b3d",
   "metadata": {},
   "source": [
    "US EPA, O. (2016). *Greenhouse Gas Emissions from a Typical Passenger Vehicle*. US EPA. https://www.epa.gov/greenvehicles/greenhouse-gas-emissions-typical-passenger-vehicle-0\n",
    "\n",
    "Lin, L., He, Z., & Peeta, S. (2018). *Predicting station-level hourly demand in a large-scale bike-sharing network: A graph convolutional neural network approach* Transportation Research. Part C, Emerging Technologies, 97, 258-276. https://doi.org/10.1016/j.trc.2018.10.011\n"
   ]
  }
 ],
 "metadata": {
  "kernelspec": {
   "display_name": "R",
   "language": "R",
   "name": "ir"
  },
  "language_info": {
   "codemirror_mode": "r",
   "file_extension": ".r",
   "mimetype": "text/x-r-source",
   "name": "R",
   "pygments_lexer": "r",
   "version": "4.2.1"
  }
 },
 "nbformat": 4,
 "nbformat_minor": 5
}
