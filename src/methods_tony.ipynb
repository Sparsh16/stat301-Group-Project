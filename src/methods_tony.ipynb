{
 "cells": [
  {
   "cell_type": "markdown",
   "id": "5e31f60b-bb6a-4719-99be-ca981c93d862",
   "metadata": {},
   "source": [
    "# STAT 301 Final Report\n",
    "#### Group 40: Dorothy Ger, Ryan Peng, Sparsh Bajaj, Tony Liang"
   ]
  },
  {
   "cell_type": "markdown",
   "id": "6a4a4d46-1a01-48ec-b384-8921467e4be4",
   "metadata": {
    "tags": []
   },
   "source": [
    "## 1. Introduction"
   ]
  },
  {
   "cell_type": "markdown",
   "id": "f79d521c-5e60-4bcb-a690-23013951a023",
   "metadata": {
    "tags": []
   },
   "source": [
    "### 1.1 Background Information on the topic"
   ]
  },
  {
   "cell_type": "markdown",
   "id": "5132277d-3614-4bb3-a7ba-d3733eb236eb",
   "metadata": {},
   "source": [
    "A motorized vehicle emits around 4.7 tons of carbon dioxide annually (US EPA 2016). To cut down on emissions, bike sharing systems, an innovation from traditional bike rentals, started to emerge as a method of eco-friendly transportation. More than 1000 cities worldwide have implemented a bicycle share program (Lin et al. 2018). From a business perspective, what are factors that effect the number of bicycle rentals became a research area of interest."
   ]
  },
  {
   "cell_type": "markdown",
   "id": "82708b86-e4b0-4dbc-a828-cac3a4b03ff8",
   "metadata": {
    "tags": []
   },
   "source": [
    "### 1.2 The Question"
   ]
  },
  {
   "cell_type": "markdown",
   "id": "4fcdac5c-79d1-4149-9392-b3ec37708303",
   "metadata": {
    "tags": []
   },
   "source": [
    "Using the programming language R as a tool for our analysis, we will be attempting to answer the research question: \n",
    "\n",
    "   > How are weather patterns statistically significant for predicting number of bike rental counts?\n"
   ]
  },
  {
   "cell_type": "markdown",
   "id": "54b34877-f173-42f7-892c-75083023885a",
   "metadata": {
    "tags": []
   },
   "source": [
    "### 1.3 The Dataset"
   ]
  },
  {
   "cell_type": "markdown",
   "id": "9b066e10-8a88-42b6-95d2-09de2bb89b0b",
   "metadata": {},
   "source": [
    "In this report, we will be working on a dataset named “Nike Sharing Dataset” from the [UCI Machine Learning Repository](https://archive.ics.uci.edu/ml/datasets/Bike+Sharing+Dataset), which includes detailed data about rental bikes in Capital bikeshare system. This dataset contains columns with information of: hourly and daily count (`cnt`) of rental bikes, `dates`, `season`, `weather`, etc. We will be looking particularly at which columns can serve as input variables for a predictive model for **daily bike rental counts**. \n",
    "\n",
    "The dataset contains the following information: \n",
    "\n",
    "`instant`: records the index of the data\n",
    "\n",
    "`dteday` : is the date in yyyy-mm-dd format\n",
    "\n",
    "`season` : is the season denoted by numbers (1:winter, 2:spring, 3:summer, 4:fall)\n",
    "\n",
    "`yr` : is the year denoted by 0 or 1 where 0 means 2011, and 1 means 2012\n",
    "\n",
    "`mnth` : is the month denoted by numbers 1 through 12\n",
    "\n",
    "`hr` :  is the hour of the day denoted by numbers 0 through 23\n",
    "\n",
    "`holiday` : denotes whether the day is holiday or not with 0 meaning no 1 meaning yes.\n",
    "\n",
    "`weekday` : is the day of the week denoted by numbers 0 through 6\n",
    "\n",
    "`workingday` : 1 if the day is neither weekend nor holiday, otherwise 0.\n",
    "\n",
    "`weathersit` :\n",
    "- 1: Clear, Few clouds, Partly cloudy, Partly cloudy\n",
    "- 2: Mist + Cloudy, Mist + Broken clouds, Mist + Few clouds, Mist\n",
    "- 3: Light Snow, Light Rain + Thunderstorm + Scattered clouds, Light Rain + Scattered clouds\n",
    "- 4: Heavy Rain + Ice Pallets + Thunderstorm + Mist, Snow + Fog\n",
    "\n",
    "`temp` : Normalized temperature in Celsius. Obtained through (t-t_min)/(t_max-t_min), t_min=-8, t_max=+39 (only in hourly scale)\n",
    "\n",
    "`atemp`: Normalized feeling temperature in Celsius. Obtained through (t-t_min)/(t_max-t_min), t_min=-16, t_max=+50 (only in hourly scale)\n",
    "\n",
    "`hum`: Normalized humidity. The values are divided by 100 (max)\n",
    "\n",
    "`windspeed`: Normalized wind speed. The values are divided by 67 (max)\n",
    "\n",
    "`casual`: count of casual users\n",
    "\n",
    "`registered`: count of registered users\n",
    "\n",
    "`cnt`: count of total rental bikes including both casual and registered\n"
   ]
  },
  {
   "cell_type": "markdown",
   "id": "b4ad4de0-604e-4fec-b121-cee8f259ecba",
   "metadata": {},
   "source": [
    "## 2. Preliminary Results"
   ]
  },
  {
   "cell_type": "markdown",
   "id": "058b0dcd-d171-4467-a693-55d43052dfca",
   "metadata": {
    "tags": []
   },
   "source": [
    "### 2.0 Load libraries "
   ]
  },
  {
   "cell_type": "code",
   "execution_count": 1,
   "id": "224547f9-0d11-471e-bf7c-8ffd9aa92e3c",
   "metadata": {},
   "outputs": [
    {
     "name": "stderr",
     "output_type": "stream",
     "text": [
      "── \u001b[1mAttaching packages\u001b[22m ─────────────────────────────────── tidyverse 1.3.2 ──\n",
      "\u001b[32m✔\u001b[39m \u001b[34mggplot2\u001b[39m 3.4.0      \u001b[32m✔\u001b[39m \u001b[34mpurrr  \u001b[39m 0.3.5 \n",
      "\u001b[32m✔\u001b[39m \u001b[34mtibble \u001b[39m 3.1.8      \u001b[32m✔\u001b[39m \u001b[34mdplyr  \u001b[39m 1.0.10\n",
      "\u001b[32m✔\u001b[39m \u001b[34mtidyr  \u001b[39m 1.2.1      \u001b[32m✔\u001b[39m \u001b[34mstringr\u001b[39m 1.4.1 \n",
      "\u001b[32m✔\u001b[39m \u001b[34mreadr  \u001b[39m 2.1.3      \u001b[32m✔\u001b[39m \u001b[34mforcats\u001b[39m 0.5.2 \n",
      "── \u001b[1mConflicts\u001b[22m ────────────────────────────────────── tidyverse_conflicts() ──\n",
      "\u001b[31m✖\u001b[39m \u001b[34mdplyr\u001b[39m::\u001b[32mfilter()\u001b[39m masks \u001b[34mstats\u001b[39m::filter()\n",
      "\u001b[31m✖\u001b[39m \u001b[34mdplyr\u001b[39m::\u001b[32mlag()\u001b[39m    masks \u001b[34mstats\u001b[39m::lag()\n",
      "Registered S3 method overwritten by 'GGally':\n",
      "  method from   \n",
      "  +.gg   ggplot2\n",
      "\n",
      "Loading required package: Matrix\n",
      "\n",
      "\n",
      "Attaching package: 'Matrix'\n",
      "\n",
      "\n",
      "The following objects are masked from 'package:tidyr':\n",
      "\n",
      "    expand, pack, unpack\n",
      "\n",
      "\n",
      "Loaded glmnet 4.1-4\n",
      "\n"
     ]
    }
   ],
   "source": [
    "# Load required libraries\n",
    "library(tidyverse)\n",
    "library(repr)\n",
    "library(infer)\n",
    "library(cowplot)\n",
    "library(broom)\n",
    "library(GGally)\n",
    "library(httr)\n",
    "library(glmnet)\n",
    "library(leaps)"
   ]
  },
  {
   "cell_type": "markdown",
   "id": "f3935ca0-eed5-4c5d-9a3f-bd6ae4a14ab5",
   "metadata": {},
   "source": [
    "### 2.1 Read data and Wrangling"
   ]
  },
  {
   "cell_type": "markdown",
   "id": "c2dd3462-34c2-4db9-9b3a-4ca0a2051462",
   "metadata": {},
   "source": [
    "We will first download a zip that contains both hourly and daily data of the bike sharing dataset, and use the **daily bike data** only as mentioned earlier from our introduction, and load it as dataframe. **Note**: The dataset can be found [here](https://archive.ics.uci.edu/ml/datasets/Bike+Sharing+Dataset)."
   ]
  },
  {
   "cell_type": "code",
   "execution_count": 2,
   "id": "51db8b7c-06be-4a65-abe4-a4fa7ebcb6d2",
   "metadata": {},
   "outputs": [
    {
     "data": {
      "text/plain": [
       "Response [https://archive.ics.uci.edu/ml/machine-learning-databases/00275/Bike-Sharing-Dataset.zip]\n",
       "  Date: 2022-12-08 02:54\n",
       "  Status: 200\n",
       "  Content-Type: application/x-httpd-php\n",
       "  Size: 280 kB\n",
       "<ON DISK>  C:\\Users\\chunq\\AppData\\Local\\Temp\\RtmpoZiPLl\\file1a70e57641e.zipNULL"
      ]
     },
     "metadata": {},
     "output_type": "display_data"
    },
    {
     "name": "stderr",
     "output_type": "stream",
     "text": [
      "\u001b[1mRows: \u001b[22m\u001b[34m731\u001b[39m \u001b[1mColumns: \u001b[22m\u001b[34m16\u001b[39m\n",
      "\u001b[36m──\u001b[39m \u001b[1mColumn specification\u001b[22m \u001b[36m────────────────────────────────────────────────────\u001b[39m\n",
      "\u001b[1mDelimiter:\u001b[22m \",\"\n",
      "\u001b[32mdbl\u001b[39m  (15): instant, season, yr, mnth, holiday, weekday, workingday, weathers...\n",
      "\u001b[34mdate\u001b[39m  (1): dteday\n",
      "\n",
      "\u001b[36mℹ\u001b[39m Use `spec()` to retrieve the full column specification for this data.\n",
      "\u001b[36mℹ\u001b[39m Specify the column types or set `show_col_types = FALSE` to quiet this message.\n"
     ]
    },
    {
     "data": {
      "text/html": [
       "<table class=\"dataframe\">\n",
       "<caption>A tibble: 6 × 16</caption>\n",
       "<thead>\n",
       "\t<tr><th scope=col>instant</th><th scope=col>dteday</th><th scope=col>season</th><th scope=col>yr</th><th scope=col>mnth</th><th scope=col>holiday</th><th scope=col>weekday</th><th scope=col>workingday</th><th scope=col>weathersit</th><th scope=col>temp</th><th scope=col>atemp</th><th scope=col>hum</th><th scope=col>windspeed</th><th scope=col>casual</th><th scope=col>registered</th><th scope=col>cnt</th></tr>\n",
       "\t<tr><th scope=col>&lt;dbl&gt;</th><th scope=col>&lt;date&gt;</th><th scope=col>&lt;dbl&gt;</th><th scope=col>&lt;dbl&gt;</th><th scope=col>&lt;dbl&gt;</th><th scope=col>&lt;dbl&gt;</th><th scope=col>&lt;dbl&gt;</th><th scope=col>&lt;dbl&gt;</th><th scope=col>&lt;dbl&gt;</th><th scope=col>&lt;dbl&gt;</th><th scope=col>&lt;dbl&gt;</th><th scope=col>&lt;dbl&gt;</th><th scope=col>&lt;dbl&gt;</th><th scope=col>&lt;dbl&gt;</th><th scope=col>&lt;dbl&gt;</th><th scope=col>&lt;dbl&gt;</th></tr>\n",
       "</thead>\n",
       "<tbody>\n",
       "\t<tr><td>1</td><td>2011-01-01</td><td>1</td><td>0</td><td>1</td><td>0</td><td>6</td><td>0</td><td>2</td><td>0.344167</td><td>0.363625</td><td>0.805833</td><td>0.1604460</td><td>331</td><td> 654</td><td> 985</td></tr>\n",
       "\t<tr><td>2</td><td>2011-01-02</td><td>1</td><td>0</td><td>1</td><td>0</td><td>0</td><td>0</td><td>2</td><td>0.363478</td><td>0.353739</td><td>0.696087</td><td>0.2485390</td><td>131</td><td> 670</td><td> 801</td></tr>\n",
       "\t<tr><td>3</td><td>2011-01-03</td><td>1</td><td>0</td><td>1</td><td>0</td><td>1</td><td>1</td><td>1</td><td>0.196364</td><td>0.189405</td><td>0.437273</td><td>0.2483090</td><td>120</td><td>1229</td><td>1349</td></tr>\n",
       "\t<tr><td>4</td><td>2011-01-04</td><td>1</td><td>0</td><td>1</td><td>0</td><td>2</td><td>1</td><td>1</td><td>0.200000</td><td>0.212122</td><td>0.590435</td><td>0.1602960</td><td>108</td><td>1454</td><td>1562</td></tr>\n",
       "\t<tr><td>5</td><td>2011-01-05</td><td>1</td><td>0</td><td>1</td><td>0</td><td>3</td><td>1</td><td>1</td><td>0.226957</td><td>0.229270</td><td>0.436957</td><td>0.1869000</td><td> 82</td><td>1518</td><td>1600</td></tr>\n",
       "\t<tr><td>6</td><td>2011-01-06</td><td>1</td><td>0</td><td>1</td><td>0</td><td>4</td><td>1</td><td>1</td><td>0.204348</td><td>0.233209</td><td>0.518261</td><td>0.0895652</td><td> 88</td><td>1518</td><td>1606</td></tr>\n",
       "</tbody>\n",
       "</table>\n"
      ],
      "text/latex": [
       "A tibble: 6 × 16\n",
       "\\begin{tabular}{llllllllllllllll}\n",
       " instant & dteday & season & yr & mnth & holiday & weekday & workingday & weathersit & temp & atemp & hum & windspeed & casual & registered & cnt\\\\\n",
       " <dbl> & <date> & <dbl> & <dbl> & <dbl> & <dbl> & <dbl> & <dbl> & <dbl> & <dbl> & <dbl> & <dbl> & <dbl> & <dbl> & <dbl> & <dbl>\\\\\n",
       "\\hline\n",
       "\t 1 & 2011-01-01 & 1 & 0 & 1 & 0 & 6 & 0 & 2 & 0.344167 & 0.363625 & 0.805833 & 0.1604460 & 331 &  654 &  985\\\\\n",
       "\t 2 & 2011-01-02 & 1 & 0 & 1 & 0 & 0 & 0 & 2 & 0.363478 & 0.353739 & 0.696087 & 0.2485390 & 131 &  670 &  801\\\\\n",
       "\t 3 & 2011-01-03 & 1 & 0 & 1 & 0 & 1 & 1 & 1 & 0.196364 & 0.189405 & 0.437273 & 0.2483090 & 120 & 1229 & 1349\\\\\n",
       "\t 4 & 2011-01-04 & 1 & 0 & 1 & 0 & 2 & 1 & 1 & 0.200000 & 0.212122 & 0.590435 & 0.1602960 & 108 & 1454 & 1562\\\\\n",
       "\t 5 & 2011-01-05 & 1 & 0 & 1 & 0 & 3 & 1 & 1 & 0.226957 & 0.229270 & 0.436957 & 0.1869000 &  82 & 1518 & 1600\\\\\n",
       "\t 6 & 2011-01-06 & 1 & 0 & 1 & 0 & 4 & 1 & 1 & 0.204348 & 0.233209 & 0.518261 & 0.0895652 &  88 & 1518 & 1606\\\\\n",
       "\\end{tabular}\n"
      ],
      "text/markdown": [
       "\n",
       "A tibble: 6 × 16\n",
       "\n",
       "| instant &lt;dbl&gt; | dteday &lt;date&gt; | season &lt;dbl&gt; | yr &lt;dbl&gt; | mnth &lt;dbl&gt; | holiday &lt;dbl&gt; | weekday &lt;dbl&gt; | workingday &lt;dbl&gt; | weathersit &lt;dbl&gt; | temp &lt;dbl&gt; | atemp &lt;dbl&gt; | hum &lt;dbl&gt; | windspeed &lt;dbl&gt; | casual &lt;dbl&gt; | registered &lt;dbl&gt; | cnt &lt;dbl&gt; |\n",
       "|---|---|---|---|---|---|---|---|---|---|---|---|---|---|---|---|\n",
       "| 1 | 2011-01-01 | 1 | 0 | 1 | 0 | 6 | 0 | 2 | 0.344167 | 0.363625 | 0.805833 | 0.1604460 | 331 |  654 |  985 |\n",
       "| 2 | 2011-01-02 | 1 | 0 | 1 | 0 | 0 | 0 | 2 | 0.363478 | 0.353739 | 0.696087 | 0.2485390 | 131 |  670 |  801 |\n",
       "| 3 | 2011-01-03 | 1 | 0 | 1 | 0 | 1 | 1 | 1 | 0.196364 | 0.189405 | 0.437273 | 0.2483090 | 120 | 1229 | 1349 |\n",
       "| 4 | 2011-01-04 | 1 | 0 | 1 | 0 | 2 | 1 | 1 | 0.200000 | 0.212122 | 0.590435 | 0.1602960 | 108 | 1454 | 1562 |\n",
       "| 5 | 2011-01-05 | 1 | 0 | 1 | 0 | 3 | 1 | 1 | 0.226957 | 0.229270 | 0.436957 | 0.1869000 |  82 | 1518 | 1600 |\n",
       "| 6 | 2011-01-06 | 1 | 0 | 1 | 0 | 4 | 1 | 1 | 0.204348 | 0.233209 | 0.518261 | 0.0895652 |  88 | 1518 | 1606 |\n",
       "\n"
      ],
      "text/plain": [
       "  instant dteday     season yr mnth holiday weekday workingday weathersit\n",
       "1 1       2011-01-01 1      0  1    0       6       0          2         \n",
       "2 2       2011-01-02 1      0  1    0       0       0          2         \n",
       "3 3       2011-01-03 1      0  1    0       1       1          1         \n",
       "4 4       2011-01-04 1      0  1    0       2       1          1         \n",
       "5 5       2011-01-05 1      0  1    0       3       1          1         \n",
       "6 6       2011-01-06 1      0  1    0       4       1          1         \n",
       "  temp     atemp    hum      windspeed casual registered cnt \n",
       "1 0.344167 0.363625 0.805833 0.1604460 331     654        985\n",
       "2 0.363478 0.353739 0.696087 0.2485390 131     670        801\n",
       "3 0.196364 0.189405 0.437273 0.2483090 120    1229       1349\n",
       "4 0.200000 0.212122 0.590435 0.1602960 108    1454       1562\n",
       "5 0.226957 0.229270 0.436957 0.1869000  82    1518       1600\n",
       "6 0.204348 0.233209 0.518261 0.0895652  88    1518       1606"
      ]
     },
     "metadata": {},
     "output_type": "display_data"
    }
   ],
   "source": [
    "# Downloads zip to tempfile\n",
    "BIKE_URL <- \"https://archive.ics.uci.edu/ml/machine-learning-databases/00275/Bike-Sharing-Dataset.zip\"\n",
    "GET(BIKE_URL, write_disk(tf <- tempfile(fileext = \".zip\")))\n",
    "# Unzip tempfile and disgards the hourly data and use daily only\n",
    "bike_sharing_day <- read_csv(unz(tf, \"day.csv\"))\n",
    "# Unlink/remove the temporary file\n",
    "unlink(tf)\n",
    "head(bike_sharing_day)"
   ]
  },
  {
   "cell_type": "markdown",
   "id": "4a29719e-2ad8-406f-a853-2edc1e9b8544",
   "metadata": {},
   "source": [
    "Before removing any columns, we are going to get some summary statistics of all variables to check how is the data distributed."
   ]
  },
  {
   "cell_type": "code",
   "execution_count": 3,
   "id": "c7708864-b49c-4e2b-a7d2-f4e6047dda6b",
   "metadata": {},
   "outputs": [
    {
     "data": {
      "text/html": [
       "<table class=\"dataframe\">\n",
       "<caption>A matrix: 8 × 15 of type chr</caption>\n",
       "<tbody>\n",
       "\t<tr><th scope=row>Variable</th><td>atemp    </td><td>casual   </td><td>cnt      </td><td>holiday  </td><td>hum      </td><td>instant  </td><td>mnth     </td><td>registered</td><td>season   </td><td>temp     </td><td>weathersit</td><td>weekday  </td><td>windspeed</td><td>workingday</td><td>yr       </td></tr>\n",
       "\t<tr><th scope=row>Min</th><td> 0.0791  </td><td> 2.0000  </td><td>22.0000  </td><td> 0.0000  </td><td> 0.0000  </td><td> 1.0000  </td><td> 1.0000  </td><td>20.0000   </td><td> 1.0000  </td><td> 0.0591  </td><td> 1.0000   </td><td> 0.0000  </td><td> 0.0224  </td><td> 0.0000   </td><td> 0.0000  </td></tr>\n",
       "\t<tr><th scope=row>1st Quantile</th><td>   0.3378</td><td> 315.5000</td><td>3152.0000</td><td>   0.0000</td><td>   0.5200</td><td> 183.5000</td><td>   4.0000</td><td>2497.0000 </td><td>   2.0000</td><td>   0.3371</td><td>   1.0000 </td><td>   1.0000</td><td>   0.1349</td><td>   0.0000 </td><td>   0.0000</td></tr>\n",
       "\t<tr><th scope=row>Mean</th><td>   0.4744</td><td> 848.1765</td><td>4504.3488</td><td>   0.0287</td><td>   0.6279</td><td> 366.0000</td><td>   6.5198</td><td>3656.1724 </td><td>   2.4966</td><td>   0.4954</td><td>   1.3953 </td><td>   2.9973</td><td>   0.1905</td><td>   0.6840 </td><td>   0.5007</td></tr>\n",
       "\t<tr><th scope=row>Median</th><td>   0.4867</td><td> 713.0000</td><td>4548.0000</td><td>   0.0000</td><td>   0.6267</td><td> 366.0000</td><td>   7.0000</td><td>3662.0000 </td><td>   3.0000</td><td>   0.4983</td><td>   1.0000 </td><td>   3.0000</td><td>   0.1810</td><td>   1.0000 </td><td>   1.0000</td></tr>\n",
       "\t<tr><th scope=row>3rt Quantile</th><td>   0.6086</td><td>1096.0000</td><td>5956.0000</td><td>   0.0000</td><td>   0.7302</td><td> 548.5000</td><td>  10.0000</td><td>4776.5000 </td><td>   3.0000</td><td>   0.6554</td><td>   2.0000 </td><td>   5.0000</td><td>   0.2332</td><td>   1.0000 </td><td>   1.0000</td></tr>\n",
       "\t<tr><th scope=row>Sd</th><td>   0.1630</td><td> 686.6225</td><td>1937.2115</td><td>   0.1672</td><td>   0.1424</td><td> 211.1658</td><td>   3.4519</td><td>1560.2564 </td><td>   1.1108</td><td>   0.1831</td><td>   0.5449 </td><td>   2.0048</td><td>   0.0775</td><td>   0.4652 </td><td>   0.5003</td></tr>\n",
       "\t<tr><th scope=row>Max</th><td>   0.8409</td><td>3410.0000</td><td>8714.0000</td><td>   1.0000</td><td>   0.9725</td><td> 731.0000</td><td>  12.0000</td><td>6946.0000 </td><td>   4.0000</td><td>   0.8617</td><td>   3.0000 </td><td>   6.0000</td><td>   0.5075</td><td>   1.0000 </td><td>   1.0000</td></tr>\n",
       "</tbody>\n",
       "</table>\n"
      ],
      "text/latex": [
       "A matrix: 8 × 15 of type chr\n",
       "\\begin{tabular}{r|lllllllllllllll}\n",
       "\tVariable & atemp     & casual    & cnt       & holiday   & hum       & instant   & mnth      & registered & season    & temp      & weathersit & weekday   & windspeed & workingday & yr       \\\\\n",
       "\tMin &  0.0791   &  2.0000   & 22.0000   &  0.0000   &  0.0000   &  1.0000   &  1.0000   & 20.0000    &  1.0000   &  0.0591   &  1.0000    &  0.0000   &  0.0224   &  0.0000    &  0.0000  \\\\\n",
       "\t1st Quantile &    0.3378 &  315.5000 & 3152.0000 &    0.0000 &    0.5200 &  183.5000 &    4.0000 & 2497.0000  &    2.0000 &    0.3371 &    1.0000  &    1.0000 &    0.1349 &    0.0000  &    0.0000\\\\\n",
       "\tMean &    0.4744 &  848.1765 & 4504.3488 &    0.0287 &    0.6279 &  366.0000 &    6.5198 & 3656.1724  &    2.4966 &    0.4954 &    1.3953  &    2.9973 &    0.1905 &    0.6840  &    0.5007\\\\\n",
       "\tMedian &    0.4867 &  713.0000 & 4548.0000 &    0.0000 &    0.6267 &  366.0000 &    7.0000 & 3662.0000  &    3.0000 &    0.4983 &    1.0000  &    3.0000 &    0.1810 &    1.0000  &    1.0000\\\\\n",
       "\t3rt Quantile &    0.6086 & 1096.0000 & 5956.0000 &    0.0000 &    0.7302 &  548.5000 &   10.0000 & 4776.5000  &    3.0000 &    0.6554 &    2.0000  &    5.0000 &    0.2332 &    1.0000  &    1.0000\\\\\n",
       "\tSd &    0.1630 &  686.6225 & 1937.2115 &    0.1672 &    0.1424 &  211.1658 &    3.4519 & 1560.2564  &    1.1108 &    0.1831 &    0.5449  &    2.0048 &    0.0775 &    0.4652  &    0.5003\\\\\n",
       "\tMax &    0.8409 & 3410.0000 & 8714.0000 &    1.0000 &    0.9725 &  731.0000 &   12.0000 & 6946.0000  &    4.0000 &    0.8617 &    3.0000  &    6.0000 &    0.5075 &    1.0000  &    1.0000\\\\\n",
       "\\end{tabular}\n"
      ],
      "text/markdown": [
       "\n",
       "A matrix: 8 × 15 of type chr\n",
       "\n",
       "| Variable | atemp     | casual    | cnt       | holiday   | hum       | instant   | mnth      | registered | season    | temp      | weathersit | weekday   | windspeed | workingday | yr        |\n",
       "| Min |  0.0791   |  2.0000   | 22.0000   |  0.0000   |  0.0000   |  1.0000   |  1.0000   | 20.0000    |  1.0000   |  0.0591   |  1.0000    |  0.0000   |  0.0224   |  0.0000    |  0.0000   |\n",
       "| 1st Quantile |    0.3378 |  315.5000 | 3152.0000 |    0.0000 |    0.5200 |  183.5000 |    4.0000 | 2497.0000  |    2.0000 |    0.3371 |    1.0000  |    1.0000 |    0.1349 |    0.0000  |    0.0000 |\n",
       "| Mean |    0.4744 |  848.1765 | 4504.3488 |    0.0287 |    0.6279 |  366.0000 |    6.5198 | 3656.1724  |    2.4966 |    0.4954 |    1.3953  |    2.9973 |    0.1905 |    0.6840  |    0.5007 |\n",
       "| Median |    0.4867 |  713.0000 | 4548.0000 |    0.0000 |    0.6267 |  366.0000 |    7.0000 | 3662.0000  |    3.0000 |    0.4983 |    1.0000  |    3.0000 |    0.1810 |    1.0000  |    1.0000 |\n",
       "| 3rt Quantile |    0.6086 | 1096.0000 | 5956.0000 |    0.0000 |    0.7302 |  548.5000 |   10.0000 | 4776.5000  |    3.0000 |    0.6554 |    2.0000  |    5.0000 |    0.2332 |    1.0000  |    1.0000 |\n",
       "| Sd |    0.1630 |  686.6225 | 1937.2115 |    0.1672 |    0.1424 |  211.1658 |    3.4519 | 1560.2564  |    1.1108 |    0.1831 |    0.5449  |    2.0048 |    0.0775 |    0.4652  |    0.5003 |\n",
       "| Max |    0.8409 | 3410.0000 | 8714.0000 |    1.0000 |    0.9725 |  731.0000 |   12.0000 | 6946.0000  |    4.0000 |    0.8617 |    3.0000  |    6.0000 |    0.5075 |    1.0000  |    1.0000 |\n",
       "\n"
      ],
      "text/plain": [
       "             [,1]      [,2]      [,3]      [,4]      [,5]      [,6]     \n",
       "Variable     atemp     casual    cnt       holiday   hum       instant  \n",
       "Min           0.0791    2.0000   22.0000    0.0000    0.0000    1.0000  \n",
       "1st Quantile    0.3378  315.5000 3152.0000    0.0000    0.5200  183.5000\n",
       "Mean            0.4744  848.1765 4504.3488    0.0287    0.6279  366.0000\n",
       "Median          0.4867  713.0000 4548.0000    0.0000    0.6267  366.0000\n",
       "3rt Quantile    0.6086 1096.0000 5956.0000    0.0000    0.7302  548.5000\n",
       "Sd              0.1630  686.6225 1937.2115    0.1672    0.1424  211.1658\n",
       "Max             0.8409 3410.0000 8714.0000    1.0000    0.9725  731.0000\n",
       "             [,7]      [,8]       [,9]      [,10]     [,11]      [,12]    \n",
       "Variable     mnth      registered season    temp      weathersit weekday  \n",
       "Min           1.0000   20.0000     1.0000    0.0591    1.0000     0.0000  \n",
       "1st Quantile    4.0000 2497.0000     2.0000    0.3371    1.0000     1.0000\n",
       "Mean            6.5198 3656.1724     2.4966    0.4954    1.3953     2.9973\n",
       "Median          7.0000 3662.0000     3.0000    0.4983    1.0000     3.0000\n",
       "3rt Quantile   10.0000 4776.5000     3.0000    0.6554    2.0000     5.0000\n",
       "Sd              3.4519 1560.2564     1.1108    0.1831    0.5449     2.0048\n",
       "Max            12.0000 6946.0000     4.0000    0.8617    3.0000     6.0000\n",
       "             [,13]     [,14]      [,15]    \n",
       "Variable     windspeed workingday yr       \n",
       "Min           0.0224    0.0000     0.0000  \n",
       "1st Quantile    0.1349    0.0000     0.0000\n",
       "Mean            0.1905    0.6840     0.5007\n",
       "Median          0.1810    1.0000     1.0000\n",
       "3rt Quantile    0.2332    1.0000     1.0000\n",
       "Sd              0.0775    0.4652     0.5003\n",
       "Max             0.5075    1.0000     1.0000"
      ]
     },
     "metadata": {},
     "output_type": "display_data"
    }
   ],
   "source": [
    "tab <- bike_sharing_day %>%\n",
    "    select_if(is.numeric) %>%\n",
    "    pivot_longer(cols = everything(),\n",
    "                 names_to = \"Variable\",\n",
    "                 values_to = \"value\") %>%\n",
    "    group_by(Variable) %>%\n",
    "    summarize(\n",
    "        Min = round(min(value), 4),\n",
    "        `1st Quantile` = round(quantile(value, 0.25), 4),\n",
    "        Mean = round(mean(value), 4),\n",
    "        Median = round(median(value), 4),\n",
    "        `3rt Quantile` = round(quantile(value, 0.75), 4),\n",
    "        Sd = round(sd(value), 4),\n",
    "        Max = round(max(value), 4))\n",
    "t(tab)"
   ]
  },
  {
   "cell_type": "markdown",
   "id": "9de8358d-8801-446e-a270-55d260a9fd3c",
   "metadata": {},
   "source": [
    "We noticed `temp`, `atemp`, `hum`, `windspeed` are all \"normalized\" variables given from the originial dataset description according to some transformations. Moreover, we have some time variables like: `weekday`, `mnth`, `dteday`, whereas we are going to discard these for easiness of modelling and not consider it at all when selecting variables. Also, according to the original dataset, we know that `cnt` = `casual` + `registered`, hence this could likely cause collinearity problem later, and we would only focus on `cnt` as a response variable. Also, similar variables like holiday, workingday might have similar issue, hence we would keep one of the two."
   ]
  },
  {
   "cell_type": "code",
   "execution_count": 4,
   "id": "07a2fa4a-2659-4ee9-8bd0-c3b07589d877",
   "metadata": {},
   "outputs": [
    {
     "data": {
      "text/html": [
       "<table class=\"dataframe\">\n",
       "<caption>A tibble: 6 × 8</caption>\n",
       "<thead>\n",
       "\t<tr><th scope=col>yr</th><th scope=col>workingday</th><th scope=col>weathersit</th><th scope=col>temp</th><th scope=col>atemp</th><th scope=col>hum</th><th scope=col>windspeed</th><th scope=col>cnt</th></tr>\n",
       "\t<tr><th scope=col>&lt;fct&gt;</th><th scope=col>&lt;fct&gt;</th><th scope=col>&lt;fct&gt;</th><th scope=col>&lt;dbl&gt;</th><th scope=col>&lt;dbl&gt;</th><th scope=col>&lt;dbl&gt;</th><th scope=col>&lt;dbl&gt;</th><th scope=col>&lt;dbl&gt;</th></tr>\n",
       "</thead>\n",
       "<tbody>\n",
       "\t<tr><td>0</td><td>0</td><td>2</td><td>0.344167</td><td>0.363625</td><td>0.805833</td><td>0.1604460</td><td> 985</td></tr>\n",
       "\t<tr><td>0</td><td>0</td><td>2</td><td>0.363478</td><td>0.353739</td><td>0.696087</td><td>0.2485390</td><td> 801</td></tr>\n",
       "\t<tr><td>0</td><td>1</td><td>1</td><td>0.196364</td><td>0.189405</td><td>0.437273</td><td>0.2483090</td><td>1349</td></tr>\n",
       "\t<tr><td>0</td><td>1</td><td>1</td><td>0.200000</td><td>0.212122</td><td>0.590435</td><td>0.1602960</td><td>1562</td></tr>\n",
       "\t<tr><td>0</td><td>1</td><td>1</td><td>0.226957</td><td>0.229270</td><td>0.436957</td><td>0.1869000</td><td>1600</td></tr>\n",
       "\t<tr><td>0</td><td>1</td><td>1</td><td>0.204348</td><td>0.233209</td><td>0.518261</td><td>0.0895652</td><td>1606</td></tr>\n",
       "</tbody>\n",
       "</table>\n"
      ],
      "text/latex": [
       "A tibble: 6 × 8\n",
       "\\begin{tabular}{llllllll}\n",
       " yr & workingday & weathersit & temp & atemp & hum & windspeed & cnt\\\\\n",
       " <fct> & <fct> & <fct> & <dbl> & <dbl> & <dbl> & <dbl> & <dbl>\\\\\n",
       "\\hline\n",
       "\t 0 & 0 & 2 & 0.344167 & 0.363625 & 0.805833 & 0.1604460 &  985\\\\\n",
       "\t 0 & 0 & 2 & 0.363478 & 0.353739 & 0.696087 & 0.2485390 &  801\\\\\n",
       "\t 0 & 1 & 1 & 0.196364 & 0.189405 & 0.437273 & 0.2483090 & 1349\\\\\n",
       "\t 0 & 1 & 1 & 0.200000 & 0.212122 & 0.590435 & 0.1602960 & 1562\\\\\n",
       "\t 0 & 1 & 1 & 0.226957 & 0.229270 & 0.436957 & 0.1869000 & 1600\\\\\n",
       "\t 0 & 1 & 1 & 0.204348 & 0.233209 & 0.518261 & 0.0895652 & 1606\\\\\n",
       "\\end{tabular}\n"
      ],
      "text/markdown": [
       "\n",
       "A tibble: 6 × 8\n",
       "\n",
       "| yr &lt;fct&gt; | workingday &lt;fct&gt; | weathersit &lt;fct&gt; | temp &lt;dbl&gt; | atemp &lt;dbl&gt; | hum &lt;dbl&gt; | windspeed &lt;dbl&gt; | cnt &lt;dbl&gt; |\n",
       "|---|---|---|---|---|---|---|---|\n",
       "| 0 | 0 | 2 | 0.344167 | 0.363625 | 0.805833 | 0.1604460 |  985 |\n",
       "| 0 | 0 | 2 | 0.363478 | 0.353739 | 0.696087 | 0.2485390 |  801 |\n",
       "| 0 | 1 | 1 | 0.196364 | 0.189405 | 0.437273 | 0.2483090 | 1349 |\n",
       "| 0 | 1 | 1 | 0.200000 | 0.212122 | 0.590435 | 0.1602960 | 1562 |\n",
       "| 0 | 1 | 1 | 0.226957 | 0.229270 | 0.436957 | 0.1869000 | 1600 |\n",
       "| 0 | 1 | 1 | 0.204348 | 0.233209 | 0.518261 | 0.0895652 | 1606 |\n",
       "\n"
      ],
      "text/plain": [
       "  yr workingday weathersit temp     atemp    hum      windspeed cnt \n",
       "1 0  0          2          0.344167 0.363625 0.805833 0.1604460  985\n",
       "2 0  0          2          0.363478 0.353739 0.696087 0.2485390  801\n",
       "3 0  1          1          0.196364 0.189405 0.437273 0.2483090 1349\n",
       "4 0  1          1          0.200000 0.212122 0.590435 0.1602960 1562\n",
       "5 0  1          1          0.226957 0.229270 0.436957 0.1869000 1600\n",
       "6 0  1          1          0.204348 0.233209 0.518261 0.0895652 1606"
      ]
     },
     "metadata": {},
     "output_type": "display_data"
    }
   ],
   "source": [
    "# Wrangling data\n",
    "# Selecting relevant/meaningful columns\n",
    "# Transform categorical variables to factors\n",
    "bike_wrangled <- bike_sharing_day %>%\n",
    "                 select(yr, workingday:windspeed, cnt) %>%\n",
    "                 mutate(across(yr:weathersit, as.factor))\n",
    "head(bike_wrangled, 6)"
   ]
  },
  {
   "cell_type": "markdown",
   "id": "8f7d80be-8619-4349-8b32-68d5f9b3ab91",
   "metadata": {},
   "source": [
    "Next, we are also checking if there exist further collinearity problem in the remaining numeric variables by plotting a heat map of these predictors."
   ]
  },
  {
   "cell_type": "code",
   "execution_count": 5,
   "id": "ceba15ab-7595-4c4b-901d-1964842be500",
   "metadata": {},
   "outputs": [],
   "source": [
    "# This cell is to control plot size\n",
    "options(repr.plot.width = 12, repr.plot.height = 12)"
   ]
  },
  {
   "cell_type": "code",
   "execution_count": 6,
   "id": "999f73a0-c82d-4c2d-9f04-36236d5fc876",
   "metadata": {},
   "outputs": [
    {
     "data": {
      "image/png": "[encoded data removed]",
      "text/plain": [
       "plot without title"
      ]
     },
     "metadata": {
      "image/png": {
       "height": 720,
       "width": 720
      }
     },
     "output_type": "display_data"
    }
   ],
   "source": [
    "# Correlation marix of numeric predictors\n",
    "corr_mat <- cor(bike_wrangled %>% select_if(is.numeric)) %>%\n",
    "  as.data.frame() %>%\n",
    "  rownames_to_column(\"var1\") %>%\n",
    "  pivot_longer(-var1, names_to = \"var2\", values_to = \"corr\")\n",
    "\n",
    "# Plot heat map of correlation matrix\n",
    "plot_corr_matrix <- corr_mat %>%\n",
    "  ggplot(aes(x = var1, y = var2)) +\n",
    "  geom_tile(aes(fill = corr), color = \"white\") +\n",
    "  scale_fill_distiller(\"Correlation Coefficient \\n\",\n",
    "    palette =  \"YlOrRd\",\n",
    "    direction = 1, limits = c(-1, 1)\n",
    "  ) +\n",
    "  labs(x = \"Var 1\", y = \"Var 2\") +\n",
    "  theme_minimal() +\n",
    "  theme(\n",
    "    axis.text.x = element_text(\n",
    "      angle = 45, vjust = 1,\n",
    "      size = 18, hjust = 1\n",
    "    ),\n",
    "    axis.text.y = element_text(\n",
    "      vjust = 1,\n",
    "      size = 18, hjust = 1\n",
    "    ),\n",
    "    legend.title = element_text(size = 18, face = \"bold\"),\n",
    "    legend.text = element_text(size = 18),\n",
    "    legend.key.size = unit(2, \"cm\")\n",
    "  ) +\n",
    "  coord_fixed() +\n",
    "  geom_text(aes(x = var1, var2, label = round(corr, 2)), color = \"black\", size = 6)\n",
    "plot_corr_matrix"
   ]
  },
  {
   "cell_type": "markdown",
   "id": "4fb807df-b085-4ccc-972d-9f71c4e5bb18",
   "metadata": {},
   "source": [
    "We notice `temp` and `atemp` are highly correlated, this indicates that there might exist collinearity between the two variables, which will be handled later."
   ]
  },
  {
   "cell_type": "markdown",
   "id": "80734ad8-f084-42be-973b-172c7d0658e7",
   "metadata": {},
   "source": [
    "Now we will visualize the distribution of our response variable, `cnt`, in a histogram first. We can see that the distibution is roughly follows a normal distribution but also have a chance in being multimodal; with a mean of approximately 4500."
   ]
  },
  {
   "cell_type": "code",
   "execution_count": 7,
   "id": "9fbcd38c-3c8b-4cfb-9ee5-9dae86ac47cd",
   "metadata": {},
   "outputs": [
    {
     "data": {
      "image/png": "[encoded data removed]",
      "text/plain": [
       "plot without title"
      ]
     },
     "metadata": {
      "image/png": {
       "height": 720,
       "width": 720
      }
     },
     "output_type": "display_data"
    }
   ],
   "source": [
    "bike_wrangled %>% ggplot(aes(x = cnt)) + \n",
    "    geom_histogram(binwidth = 300, alpha = 2,color = \"blue\") +\n",
    "    geom_vline(aes(xintercept=mean(cnt)), color=\"red\",\n",
    "             linetype=\"dashed\")+\n",
    "    labs(title=\"Bike Rental Count Histogram\",x=\"Rental Bike Count\", \n",
    "         y = \"Count\")+\n",
    "    theme(text=element_text(size=15, face = \"bold\"))"
   ]
  },
  {
   "cell_type": "markdown",
   "id": "30433f71-b123-4930-9183-e76538bc2ac4",
   "metadata": {},
   "source": [
    "By creating a Q-Q plot, we can see that some data points deviate away from the 45-degree red line and is therefore a bit heavy-tailed."
   ]
  },
  {
   "cell_type": "code",
   "execution_count": 8,
   "id": "05dae526-28b0-4cd3-aa9f-6c84e316c3aa",
   "metadata": {},
   "outputs": [
    {
     "data": {
      "image/png": "[encoded data removed]",
      "text/plain": [
       "Plot with title \"Normal Q-Q Plot\""
      ]
     },
     "metadata": {
      "image/png": {
       "height": 720,
       "width": 720
      }
     },
     "output_type": "display_data"
    }
   ],
   "source": [
    "qqnorm(bike_wrangled$cnt)\n",
    "qqline(bike_wrangled$cnt, col = \"red\", lwd = 2)"
   ]
  },
  {
   "cell_type": "markdown",
   "id": "610508ca-02ac-4c5d-b91d-acc0b7b6bf31",
   "metadata": {},
   "source": [
    "## 3. Methods"
   ]
  },
  {
   "cell_type": "markdown",
   "id": "5ab14140-1ebb-47df-8a22-92b8b4e0ecc4",
   "metadata": {},
   "source": [
    "### 3.1 What methods do you plan on using?"
   ]
  },
  {
   "cell_type": "markdown",
   "id": "0d9a74ba-716c-4af5-adea-1212e1b05850",
   "metadata": {},
   "source": [
    "For our proposal, we plan to predict the count of bikes using the variable `cnt` by using following predictors: `temp`, `hum`, `windspeed`, `yr`, `workingday`, `weathersit`.  We plan to make this prediction using **Poisson Regression** as we believe it can be effectively used for modeling count data (count of bikes, which is discrete). If we assume our different independent predictor variables $x_1$, $x_2$, $x_3$, ..., $x_n$ etc and our response variable (`cnt`) to be $Y$, then our model can be described as shown below: \n",
    "<br>\n",
    " $log (\\lambda: \\mathbb{E}(Y|x)) = \\beta_{0} + \\beta_{1} x_1 + \\beta_{2}x_2 + ... + \\beta_{n} x_n$.\n",
    " \n",
    " Where $\\lambda$ is the mean of our observed values $Y_i$, and also its variance, assuming $Y_i \\sim \\text{Poisson, where}$ $\\lambda = \\lambda_i $ \n",
    " \n",
    " \n",
    " "
   ]
  },
  {
   "cell_type": "markdown",
   "id": "7b6d08b0-bf08-4bc9-957e-36528d42165e",
   "metadata": {},
   "source": [
    "### 3.2 Analysis"
   ]
  },
  {
   "cell_type": "markdown",
   "id": "948db6a6-b9ce-4955-a73e-542ffbd9bdf4",
   "metadata": {},
   "source": [
    "We are now doing further analysis on our dataset as proposed earlier. Recall the question we are trying to answer is:\n",
    "> **How are weather patterns statistically significant for predicting number of bike rental counts?**\n",
    "\n",
    "In order to answer above question, we have a outline of steps to be carried as following:\n",
    "1) Check if our data matches assumption for Poisson Regression.\n",
    " 2) Split data to train ($70\\%$ of data) and test ($30\\%$ of data).\n",
    "     - The proportion of data $70\\%$ and $30\\%$ are picked randomly\n",
    " \n",
    " 2) ~~Use the train data to train a baseline model and use various regularization methods **(LASSO/Ridge)** to compare models.~~\n",
    " 2) Use the train data perform possible feature selection to increase our prediction performance.\n",
    " 3) Carry **cross-validation (CV)** to tune hyperparameters in our regularization methods for optimal prediction performance.\n",
    " 4) After retrieving the \"optimal\" model we could have, use the test set to evaluate its performance on future \"unseen\" data.\n",
    " 5) Gather results and wrap it to figures/tables.\n",
    " \n",
    "**Note**: we have done some checks in previous proposal stage like checking for collinearity, normality, excluding variable and many others, hence those assumptions implies and will not be mentioned any more in the final report."
   ]
  },
  {
   "cell_type": "code",
   "execution_count": 9,
   "id": "c2f79b67-0e6c-409a-872a-b96a6cfdff09",
   "metadata": {},
   "outputs": [
    {
     "data": {
      "text/html": [
       "<table class=\"dataframe\">\n",
       "<caption>A tibble: 6 × 7</caption>\n",
       "<thead>\n",
       "\t<tr><th scope=col>yr</th><th scope=col>workingday</th><th scope=col>weathersit</th><th scope=col>temp</th><th scope=col>hum</th><th scope=col>windspeed</th><th scope=col>cnt</th></tr>\n",
       "\t<tr><th scope=col>&lt;fct&gt;</th><th scope=col>&lt;fct&gt;</th><th scope=col>&lt;fct&gt;</th><th scope=col>&lt;dbl&gt;</th><th scope=col>&lt;dbl&gt;</th><th scope=col>&lt;dbl&gt;</th><th scope=col>&lt;dbl&gt;</th></tr>\n",
       "</thead>\n",
       "<tbody>\n",
       "\t<tr><td>0</td><td>0</td><td>2</td><td>0.344167</td><td>0.805833</td><td>0.1604460</td><td> 985</td></tr>\n",
       "\t<tr><td>0</td><td>0</td><td>2</td><td>0.363478</td><td>0.696087</td><td>0.2485390</td><td> 801</td></tr>\n",
       "\t<tr><td>0</td><td>1</td><td>1</td><td>0.196364</td><td>0.437273</td><td>0.2483090</td><td>1349</td></tr>\n",
       "\t<tr><td>0</td><td>1</td><td>1</td><td>0.200000</td><td>0.590435</td><td>0.1602960</td><td>1562</td></tr>\n",
       "\t<tr><td>0</td><td>1</td><td>1</td><td>0.226957</td><td>0.436957</td><td>0.1869000</td><td>1600</td></tr>\n",
       "\t<tr><td>0</td><td>1</td><td>1</td><td>0.204348</td><td>0.518261</td><td>0.0895652</td><td>1606</td></tr>\n",
       "</tbody>\n",
       "</table>\n"
      ],
      "text/latex": [
       "A tibble: 6 × 7\n",
       "\\begin{tabular}{lllllll}\n",
       " yr & workingday & weathersit & temp & hum & windspeed & cnt\\\\\n",
       " <fct> & <fct> & <fct> & <dbl> & <dbl> & <dbl> & <dbl>\\\\\n",
       "\\hline\n",
       "\t 0 & 0 & 2 & 0.344167 & 0.805833 & 0.1604460 &  985\\\\\n",
       "\t 0 & 0 & 2 & 0.363478 & 0.696087 & 0.2485390 &  801\\\\\n",
       "\t 0 & 1 & 1 & 0.196364 & 0.437273 & 0.2483090 & 1349\\\\\n",
       "\t 0 & 1 & 1 & 0.200000 & 0.590435 & 0.1602960 & 1562\\\\\n",
       "\t 0 & 1 & 1 & 0.226957 & 0.436957 & 0.1869000 & 1600\\\\\n",
       "\t 0 & 1 & 1 & 0.204348 & 0.518261 & 0.0895652 & 1606\\\\\n",
       "\\end{tabular}\n"
      ],
      "text/markdown": [
       "\n",
       "A tibble: 6 × 7\n",
       "\n",
       "| yr &lt;fct&gt; | workingday &lt;fct&gt; | weathersit &lt;fct&gt; | temp &lt;dbl&gt; | hum &lt;dbl&gt; | windspeed &lt;dbl&gt; | cnt &lt;dbl&gt; |\n",
       "|---|---|---|---|---|---|---|\n",
       "| 0 | 0 | 2 | 0.344167 | 0.805833 | 0.1604460 |  985 |\n",
       "| 0 | 0 | 2 | 0.363478 | 0.696087 | 0.2485390 |  801 |\n",
       "| 0 | 1 | 1 | 0.196364 | 0.437273 | 0.2483090 | 1349 |\n",
       "| 0 | 1 | 1 | 0.200000 | 0.590435 | 0.1602960 | 1562 |\n",
       "| 0 | 1 | 1 | 0.226957 | 0.436957 | 0.1869000 | 1600 |\n",
       "| 0 | 1 | 1 | 0.204348 | 0.518261 | 0.0895652 | 1606 |\n",
       "\n"
      ],
      "text/plain": [
       "  yr workingday weathersit temp     hum      windspeed cnt \n",
       "1 0  0          2          0.344167 0.805833 0.1604460  985\n",
       "2 0  0          2          0.363478 0.696087 0.2485390  801\n",
       "3 0  1          1          0.196364 0.437273 0.2483090 1349\n",
       "4 0  1          1          0.200000 0.590435 0.1602960 1562\n",
       "5 0  1          1          0.226957 0.436957 0.1869000 1600\n",
       "6 0  1          1          0.204348 0.518261 0.0895652 1606"
      ]
     },
     "metadata": {},
     "output_type": "display_data"
    }
   ],
   "source": [
    "# remove the atemp column due to collinearity\n",
    "bike_wrangled <-  bike_wrangled %>% select(-atemp)\n",
    "head(bike_wrangled)"
   ]
  },
  {
   "cell_type": "markdown",
   "id": "3fa5e714-d7cc-49fa-b96e-44d3d7117519",
   "metadata": {},
   "source": [
    "Note that we have several factor encoded categorical variables, and others standardized predictors (mentioned in the introduction) with our response being on a very big scale, hence we might need to account for this when selecting features (i.e. standardizing these counts or force it to a smaller range of values, as that's what Poisson Regression meant to do). As mentioned above, our response variable `cnt` is a huge scale compared to other variables"
   ]
  },
  {
   "cell_type": "code",
   "execution_count": 10,
   "id": "89d7dc96-935b-4c4f-b6b3-e1ba7c633ced",
   "metadata": {},
   "outputs": [
    {
     "data": {
      "text/html": [
       "<style>\n",
       ".list-inline {list-style: none; margin:0; padding: 0}\n",
       ".list-inline>li {display: inline-block}\n",
       ".list-inline>li:not(:last-child)::after {content: \"\\00b7\"; padding: 0 .5ex}\n",
       "</style>\n",
       "<ol class=list-inline><li>4790</li><li>2302</li><li>7572</li><li>6779</li><li>7129</li><li>4169</li><li>3214</li><li>4717</li><li>1495</li><li>7058</li><li>4189</li><li>3982</li><li>1360</li><li>4458</li><li>3641</li><li>3389</li><li>1096</li><li>3163</li><li>4634</li><li>7415</li><li>6565</li><li>1815</li><li>4672</li><li>2132</li><li>2703</li><li>6664</li><li>2162</li><li>2425</li><li>6192</li><li>5463</li></ol>\n"
      ],
      "text/latex": [
       "\\begin{enumerate*}\n",
       "\\item 4790\n",
       "\\item 2302\n",
       "\\item 7572\n",
       "\\item 6779\n",
       "\\item 7129\n",
       "\\item 4169\n",
       "\\item 3214\n",
       "\\item 4717\n",
       "\\item 1495\n",
       "\\item 7058\n",
       "\\item 4189\n",
       "\\item 3982\n",
       "\\item 1360\n",
       "\\item 4458\n",
       "\\item 3641\n",
       "\\item 3389\n",
       "\\item 1096\n",
       "\\item 3163\n",
       "\\item 4634\n",
       "\\item 7415\n",
       "\\item 6565\n",
       "\\item 1815\n",
       "\\item 4672\n",
       "\\item 2132\n",
       "\\item 2703\n",
       "\\item 6664\n",
       "\\item 2162\n",
       "\\item 2425\n",
       "\\item 6192\n",
       "\\item 5463\n",
       "\\end{enumerate*}\n"
      ],
      "text/markdown": [
       "1. 4790\n",
       "2. 2302\n",
       "3. 7572\n",
       "4. 6779\n",
       "5. 7129\n",
       "6. 4169\n",
       "7. 3214\n",
       "8. 4717\n",
       "9. 1495\n",
       "10. 7058\n",
       "11. 4189\n",
       "12. 3982\n",
       "13. 1360\n",
       "14. 4458\n",
       "15. 3641\n",
       "16. 3389\n",
       "17. 1096\n",
       "18. 3163\n",
       "19. 4634\n",
       "20. 7415\n",
       "21. 6565\n",
       "22. 1815\n",
       "23. 4672\n",
       "24. 2132\n",
       "25. 2703\n",
       "26. 6664\n",
       "27. 2162\n",
       "28. 2425\n",
       "29. 6192\n",
       "30. 5463\n",
       "\n",
       "\n"
      ],
      "text/plain": [
       " [1] 4790 2302 7572 6779 7129 4169 3214 4717 1495 7058 4189 3982 1360 4458 3641\n",
       "[16] 3389 1096 3163 4634 7415 6565 1815 4672 2132 2703 6664 2162 2425 6192 5463"
      ]
     },
     "metadata": {},
     "output_type": "display_data"
    }
   ],
   "source": [
    "# Set seed to reprodoce results\n",
    "set.seed(20221210)\n",
    "sample_n(size = 30, bike_wrangled)$cnt"
   ]
  },
  {
   "cell_type": "markdown",
   "id": "78241c84-f80d-456f-bde0-23f13282e42a",
   "metadata": {},
   "source": [
    "For simplicity we take 30 random samples of this wrangled bike data and see what ranges the `cnt` goes. As noted above, we could `cnt` are mostly above 1000 and could go upto 7000, hence for simplicity we our going to divided all of our `cnt`  by 1000, and round it to neareast integer. Below is a summary table after applying such transformation and counting numbers of these same `cnt_scaled` among observations."
   ]
  },
  {
   "cell_type": "code",
   "execution_count": 23,
   "id": "7a8a9d71-7474-42c1-b64c-184706cdb731",
   "metadata": {},
   "outputs": [
    {
     "data": {
      "image/png": "[encoded data removed]",
      "text/plain": [
       "plot without title"
      ]
     },
     "metadata": {
      "image/png": {
       "height": 360,
       "width": 480
      }
     },
     "output_type": "display_data"
    }
   ],
   "source": [
    "# change size\n",
    "options(repr.plot.width = 8, repr.plot.height = 6)\n",
    "# visualizing the counts per 1000 distritbution, 0 means less than 1000\n",
    "bike_wrangled %>% \n",
    "    summarize(cnt_scaled = as.integer(cnt/ 1000)) %>% \n",
    "    group_by(cnt_scaled) %>%\n",
    "    summarize(n_cnts = n()) %>%\n",
    "    ggplot(aes(x = cnt_scaled, y = n_cnts, fill = cnt_scaled)) +\n",
    "    geom_col() +\n",
    "    scale_fill_continuous(low=\"blue\", high=\"red\") +\n",
    "    labs(x = \"Bike Rental Counts Scaled (per 1000)\",\n",
    "         y = \"Number of counts (per 1000)\") +\n",
    "    ggtitle(\"Ranges of Bike Rental Counts Per 1000\")\n"
   ]
  },
  {
   "cell_type": "markdown",
   "id": "3744b0da-bda2-42e6-8f58-e9f13b0d33d5",
   "metadata": {},
   "source": [
    "We could see in our data, that most daily bike rental counts are around 4000, since these are the ones that occured the most from table above. Now we will just do the transformation then split data to train and test portion."
   ]
  },
  {
   "cell_type": "code",
   "execution_count": 12,
   "id": "933345b5-9516-4cde-a5c7-a7ee1d6b6749",
   "metadata": {
    "tags": []
   },
   "outputs": [
    {
     "data": {
      "text/html": [
       "<table class=\"dataframe\">\n",
       "<caption>A tibble: 6 × 7</caption>\n",
       "<thead>\n",
       "\t<tr><th scope=col>yr</th><th scope=col>workingday</th><th scope=col>weathersit</th><th scope=col>temp</th><th scope=col>hum</th><th scope=col>windspeed</th><th scope=col>cnt</th></tr>\n",
       "\t<tr><th scope=col>&lt;fct&gt;</th><th scope=col>&lt;fct&gt;</th><th scope=col>&lt;fct&gt;</th><th scope=col>&lt;dbl&gt;</th><th scope=col>&lt;dbl&gt;</th><th scope=col>&lt;dbl&gt;</th><th scope=col>&lt;int&gt;</th></tr>\n",
       "</thead>\n",
       "<tbody>\n",
       "\t<tr><td>0</td><td>1</td><td>2</td><td>0.728333</td><td>0.703333</td><td>0.2388040</td><td>4</td></tr>\n",
       "\t<tr><td>0</td><td>1</td><td>1</td><td>0.299130</td><td>0.503913</td><td>0.2939610</td><td>2</td></tr>\n",
       "\t<tr><td>1</td><td>1</td><td>2</td><td>0.657500</td><td>0.793750</td><td>0.0665458</td><td>7</td></tr>\n",
       "\t<tr><td>1</td><td>1</td><td>1</td><td>0.715833</td><td>0.504167</td><td>0.3003830</td><td>6</td></tr>\n",
       "\t<tr><td>1</td><td>0</td><td>1</td><td>0.620833</td><td>0.530417</td><td>0.2543670</td><td>7</td></tr>\n",
       "\t<tr><td>1</td><td>1</td><td>1</td><td>0.348333</td><td>0.531250</td><td>0.1816000</td><td>4</td></tr>\n",
       "</tbody>\n",
       "</table>\n"
      ],
      "text/latex": [
       "A tibble: 6 × 7\n",
       "\\begin{tabular}{lllllll}\n",
       " yr & workingday & weathersit & temp & hum & windspeed & cnt\\\\\n",
       " <fct> & <fct> & <fct> & <dbl> & <dbl> & <dbl> & <int>\\\\\n",
       "\\hline\n",
       "\t 0 & 1 & 2 & 0.728333 & 0.703333 & 0.2388040 & 4\\\\\n",
       "\t 0 & 1 & 1 & 0.299130 & 0.503913 & 0.2939610 & 2\\\\\n",
       "\t 1 & 1 & 2 & 0.657500 & 0.793750 & 0.0665458 & 7\\\\\n",
       "\t 1 & 1 & 1 & 0.715833 & 0.504167 & 0.3003830 & 6\\\\\n",
       "\t 1 & 0 & 1 & 0.620833 & 0.530417 & 0.2543670 & 7\\\\\n",
       "\t 1 & 1 & 1 & 0.348333 & 0.531250 & 0.1816000 & 4\\\\\n",
       "\\end{tabular}\n"
      ],
      "text/markdown": [
       "\n",
       "A tibble: 6 × 7\n",
       "\n",
       "| yr &lt;fct&gt; | workingday &lt;fct&gt; | weathersit &lt;fct&gt; | temp &lt;dbl&gt; | hum &lt;dbl&gt; | windspeed &lt;dbl&gt; | cnt &lt;int&gt; |\n",
       "|---|---|---|---|---|---|---|\n",
       "| 0 | 1 | 2 | 0.728333 | 0.703333 | 0.2388040 | 4 |\n",
       "| 0 | 1 | 1 | 0.299130 | 0.503913 | 0.2939610 | 2 |\n",
       "| 1 | 1 | 2 | 0.657500 | 0.793750 | 0.0665458 | 7 |\n",
       "| 1 | 1 | 1 | 0.715833 | 0.504167 | 0.3003830 | 6 |\n",
       "| 1 | 0 | 1 | 0.620833 | 0.530417 | 0.2543670 | 7 |\n",
       "| 1 | 1 | 1 | 0.348333 | 0.531250 | 0.1816000 | 4 |\n",
       "\n"
      ],
      "text/plain": [
       "  yr workingday weathersit temp     hum      windspeed cnt\n",
       "1 0  1          2          0.728333 0.703333 0.2388040 4  \n",
       "2 0  1          1          0.299130 0.503913 0.2939610 2  \n",
       "3 1  1          2          0.657500 0.793750 0.0665458 7  \n",
       "4 1  1          1          0.715833 0.504167 0.3003830 6  \n",
       "5 1  0          1          0.620833 0.530417 0.2543670 7  \n",
       "6 1  1          1          0.348333 0.531250 0.1816000 4  "
      ]
     },
     "metadata": {},
     "output_type": "display_data"
    }
   ],
   "source": [
    "# setting a seed to reproduce\n",
    "set.seed(20221210)\n",
    "# 70% of the sample size\n",
    "bike_scaled <- bike_wrangled %>% mutate(cnt = as.integer(cnt/1000))\n",
    "n <- nrow(bike_scaled)\n",
    "size <- floor(0.70 * n)\n",
    "# index of these samples\n",
    "train_ind <- sample(seq_len(n), size = size)\n",
    "# split the data into train and test portion\n",
    "# train data\n",
    "bike_train <- bike_scaled[train_ind,]\n",
    "# test data\n",
    "bike_test <- bike_scaled[-train_ind,]\n",
    "\n",
    "# view first 6 train data\n",
    "head(bike_train)"
   ]
  },
  {
   "cell_type": "markdown",
   "id": "9cb7cf6b-c935-49c9-a3d5-a44ab6b7dc41",
   "metadata": {},
   "source": [
    "### 3.3 Feature Selection"
   ]
  },
  {
   "cell_type": "markdown",
   "id": "90821ef9-4fa3-44ef-aef1-42bc8a4d9788",
   "metadata": {},
   "source": [
    "After split the data above, now we could mess a round a bit with our data (which we means the train data). Although the wrangled data already consists of small set of predictors, but we would like to apply some methods that could possibly select useful variables for a predictive model. Given we have some categorical variables, then doing group LASSO or even sparse-group LASSO is not quite feasible for this project, therefore we have other stepwise algorithms left to use. Next, we will apply both forward and backward selection algortihm to find possible subsets of the full model that achieves highest test score (in this case, we use deviance since Poisson Regression do not belongs to the gaussian family). <--- **Proofread and check**"
   ]
  },
  {
   "cell_type": "markdown",
   "id": "3e399469-fb68-4eab-8aeb-2d5c7fd6a918",
   "metadata": {},
   "source": [
    "#### LASSO"
   ]
  },
  {
   "cell_type": "markdown",
   "id": "ba51d8b7-58c3-4b4c-b3fb-a85fc2c4f10d",
   "metadata": {},
   "source": [
    "We only care about predictive performance of the optimal model, hence we would go straight using penalized regression of LASSO method of L1-norm penalty. Moreover, by its nature, we could hopefully get a subset of variables selected as well from the set of all predictors. In addition, we would carry a 10 fold CV as well to tune hyperparameter $\\lambda$ and calculate its beta coefficients for the Poisson Regression.\n",
    "\n",
    "**Note**: Poisson Regression do not belongs to the gaussian family, hence we could not use any of MSE measurements to estimate the loss, and will then use deviance instead as the measurement."
   ]
  },
  {
   "cell_type": "code",
   "execution_count": 13,
   "id": "dee46be1-2e5b-4a5f-bac1-f8e828134504",
   "metadata": {
    "tags": []
   },
   "outputs": [],
   "source": [
    "# retrieve X and y matrix to ease our calculations\n",
    "# X matrix\n",
    "X_train <- model.matrix(cnt ~ . , bike_train)[,-1]\n",
    "#X_train <- bike_train %>% select (-cnt)\n",
    "#X_train <- apply(X, 2, as.numeric)\n",
    "# Y response\n",
    "Y_train <- bike_train$cnt\n",
    "\n",
    "# Fit a CV of LASSO Poisson Regression \n",
    "# to find optimal lambda that give us best predictive score\n",
    "cv_lasso <- cv.glmnet(\n",
    "    x = X_train,\n",
    "    y = Y_train,\n",
    "    family = \"poisson\",\n",
    "    nfolds = 10,\n",
    "    alpha = 1,\n",
    "    type.measure = \"mse\"\n",
    "    )"
   ]
  },
  {
   "cell_type": "markdown",
   "id": "cdc217c3-410f-4602-9136-e633c4c7bb9b",
   "metadata": {},
   "source": [
    "We could then visualize these CV glmnet of our LASSO Poisson Regression to see how many non-zero predictors exists at our lambda.1se, that is given us low risk estimate while being 1 Standard Error within the the lambda that gives the mininum risk estimate. <--- **Proofread and check?**"
   ]
  },
  {
   "cell_type": "code",
   "execution_count": 14,
   "id": "c288a74a-76b0-45a1-9f62-f443fd093b61",
   "metadata": {},
   "outputs": [
    {
     "data": {
      "image/png": "[encoded data removed]",
      "text/plain": [
       "Plot with title \"LASSO Poisson Regression\""
      ]
     },
     "metadata": {
      "image/png": {
       "height": 360,
       "width": 360
      }
     },
     "output_type": "display_data"
    }
   ],
   "source": [
    "# change size of plot\n",
    "options(repr.plot.width = 6, repr.plot.height = 6)\n",
    "# plot the cv glmnet with deviance vs log lambda\n",
    "plot(cv_lasso, main = \"LASSO Poisson Regression\")"
   ]
  },
  {
   "cell_type": "markdown",
   "id": "49604da0-8a25-40de-b379-65aab6749ad5",
   "metadata": {},
   "source": [
    "By looking at the `lambda.1se` of the plot above (which is the second vertical line near the right), the `cv.glmnet` is telling us that there still exists 5 non-zero beta estimates for our Poisson Regression with LASSO penalty. Hence, this suggests that we could use less variables for our final model to make predictions with. Now, let's see what are those selected covariates:"
   ]
  },
  {
   "cell_type": "code",
   "execution_count": 15,
   "id": "b43298bb-d976-406d-95a0-a97b23cddb4a",
   "metadata": {
    "tags": []
   },
   "outputs": [
    {
     "data": {
      "text/html": [
       "<table class=\"dataframe\">\n",
       "<caption>A data.frame: 5 × 2</caption>\n",
       "<thead>\n",
       "\t<tr><th scope=col>covariates</th><th scope=col>coefficients</th></tr>\n",
       "\t<tr><th scope=col>&lt;chr&gt;</th><th scope=col>&lt;dbl&gt;</th></tr>\n",
       "</thead>\n",
       "<tbody>\n",
       "\t<tr><td>yr1        </td><td> 0.44</td></tr>\n",
       "\t<tr><td>weathersit2</td><td>-0.02</td></tr>\n",
       "\t<tr><td>weathersit3</td><td>-0.22</td></tr>\n",
       "\t<tr><td>temp       </td><td> 1.36</td></tr>\n",
       "\t<tr><td>windspeed  </td><td>-0.34</td></tr>\n",
       "</tbody>\n",
       "</table>\n"
      ],
      "text/latex": [
       "A data.frame: 5 × 2\n",
       "\\begin{tabular}{ll}\n",
       " covariates & coefficients\\\\\n",
       " <chr> & <dbl>\\\\\n",
       "\\hline\n",
       "\t yr1         &  0.44\\\\\n",
       "\t weathersit2 & -0.02\\\\\n",
       "\t weathersit3 & -0.22\\\\\n",
       "\t temp        &  1.36\\\\\n",
       "\t windspeed   & -0.34\\\\\n",
       "\\end{tabular}\n"
      ],
      "text/markdown": [
       "\n",
       "A data.frame: 5 × 2\n",
       "\n",
       "| covariates &lt;chr&gt; | coefficients &lt;dbl&gt; |\n",
       "|---|---|\n",
       "| yr1         |  0.44 |\n",
       "| weathersit2 | -0.02 |\n",
       "| weathersit3 | -0.22 |\n",
       "| temp        |  1.36 |\n",
       "| windspeed   | -0.34 |\n",
       "\n"
      ],
      "text/plain": [
       "  covariates  coefficients\n",
       "1 yr1          0.44       \n",
       "2 weathersit2 -0.02       \n",
       "3 weathersit3 -0.22       \n",
       "4 temp         1.36       \n",
       "5 windspeed   -0.34       "
      ]
     },
     "metadata": {},
     "output_type": "display_data"
    }
   ],
   "source": [
    "# First retrieve value of lambda 1se\n",
    "# then fit a poisson glmnet with that lambda\n",
    "# lambda of 1se\n",
    "lam_1se <- round(cv_lasso$lambda.1se, 2)\n",
    "\n",
    "# Fitting the glmnet with optimal lambda\n",
    "optimal_pois <- glmnet(\n",
    "    x = X_train,\n",
    "    y = Y_train,\n",
    "    family = \"poisson\",\n",
    "    alpha = 1,\n",
    "    lambda = lam_1se,\n",
    "    type.measure = \"mse\"\n",
    "    )\n",
    "# selected covariates by LASSO\n",
    "coefs <- coef(cv_lasso, s = \"lambda.1se\")\n",
    "data.frame(covariates = coefs@Dimnames[[1]][which(coefs != 0)][-1],\n",
    "           coefficients = coefs[which(coefs != 0)][-1]) %>%\n",
    "    mutate(coefficients = round(coefficients, 2))"
   ]
  },
  {
   "cell_type": "markdown",
   "id": "4aed8fe1-fc21-4182-9c30-c2d53e59adcd",
   "metadata": {},
   "source": [
    "We could see that applying regularization method like LASSO, we have constrained and selected less variables for our final model, with `yr`, `weathersit`, `temp` and `windspeed` being selected, whereas originally we had 7 predictors and now reduced to 5, which means the model is less complex and is more generalized upon predicting unseen data. Now we could finally use this optimal model to predict on our unseen data (the test set)."
   ]
  },
  {
   "cell_type": "code",
   "execution_count": 16,
   "id": "58ee6c8f-463a-421c-a5cf-4e756017ff89",
   "metadata": {},
   "outputs": [
    {
     "data": {
      "text/html": [
       "<table class=\"dataframe\">\n",
       "<caption>A data.frame: 6 × 2</caption>\n",
       "<thead>\n",
       "\t<tr><th></th><th scope=col>actuals</th><th scope=col>predictions</th></tr>\n",
       "\t<tr><th></th><th scope=col>&lt;int&gt;</th><th scope=col>&lt;dbl&gt;</th></tr>\n",
       "</thead>\n",
       "<tbody>\n",
       "\t<tr><th scope=row>1</th><td>5</td><td>6</td></tr>\n",
       "\t<tr><th scope=row>2</th><td>1</td><td>2</td></tr>\n",
       "\t<tr><th scope=row>3</th><td>2</td><td>3</td></tr>\n",
       "\t<tr><th scope=row>4</th><td>4</td><td>4</td></tr>\n",
       "\t<tr><th scope=row>5</th><td>6</td><td>7</td></tr>\n",
       "\t<tr><th scope=row>6</th><td>6</td><td>6</td></tr>\n",
       "</tbody>\n",
       "</table>\n"
      ],
      "text/latex": [
       "A data.frame: 6 × 2\n",
       "\\begin{tabular}{r|ll}\n",
       "  & actuals & predictions\\\\\n",
       "  & <int> & <dbl>\\\\\n",
       "\\hline\n",
       "\t1 & 5 & 6\\\\\n",
       "\t2 & 1 & 2\\\\\n",
       "\t3 & 2 & 3\\\\\n",
       "\t4 & 4 & 4\\\\\n",
       "\t5 & 6 & 7\\\\\n",
       "\t6 & 6 & 6\\\\\n",
       "\\end{tabular}\n"
      ],
      "text/markdown": [
       "\n",
       "A data.frame: 6 × 2\n",
       "\n",
       "| <!--/--> | actuals &lt;int&gt; | predictions &lt;dbl&gt; |\n",
       "|---|---|---|\n",
       "| 1 | 5 | 6 |\n",
       "| 2 | 1 | 2 |\n",
       "| 3 | 2 | 3 |\n",
       "| 4 | 4 | 4 |\n",
       "| 5 | 6 | 7 |\n",
       "| 6 | 6 | 6 |\n",
       "\n"
      ],
      "text/plain": [
       "  actuals predictions\n",
       "1 5       6          \n",
       "2 1       2          \n",
       "3 2       3          \n",
       "4 4       4          \n",
       "5 6       7          \n",
       "6 6       6          "
      ]
     },
     "metadata": {},
     "output_type": "display_data"
    }
   ],
   "source": [
    "# separate X and y for test data\n",
    "# \"new X\" from the test data\n",
    "X_test <- model.matrix(cnt~., bike_test)[,-1]\n",
    "# \"new Y\" to evaluate our performance of the optimal model\n",
    "Y_test <- bike_test$cnt\n",
    "\n",
    "# Predict on the test data\n",
    "predictions <- predict(optimal_pois, newx = X_test, type = \"response\") %>%\n",
    "        `rownames<-`(NULL) %>%\n",
    "        as.data.frame() %>%\n",
    "        rename(predictions = s0) %>%\n",
    "        mutate(predictions = round(predictions, 0))\n",
    "\n",
    "# Append predicions with actual\n",
    "set.seed(20221210)\n",
    "responses <- cbind(actuals = bike_test$cnt, preds = predictions)\n",
    "tail(sample_n(size = 6, responses))\n"
   ]
  },
  {
   "cell_type": "markdown",
   "id": "e17d7e46-1b09-4b40-976f-8f713a14b980",
   "metadata": {},
   "source": [
    "We combined the actual values of scaled `cnt` and their predictions based on the model, out of 6 random samples taken out, 2 of them correctly predicted the count, whereas others had 1 difference (then in terms of the original scale, we always predicted 1000 more/less of the actual count). Therefore we are going to calculate the rmse of this to evaluate how good the model performed to estimate how good it could be in predicting future unseen data. "
   ]
  },
  {
   "cell_type": "code",
   "execution_count": 17,
   "id": "b562a395-d615-4e1c-acf1-e79cc6674d21",
   "metadata": {},
   "outputs": [
    {
     "data": {
      "text/html": [
       "<table class=\"dataframe\">\n",
       "<caption>A data.frame: 1 × 1</caption>\n",
       "<thead>\n",
       "\t<tr><th scope=col>RMSE</th></tr>\n",
       "\t<tr><th scope=col>&lt;dbl&gt;</th></tr>\n",
       "</thead>\n",
       "<tbody>\n",
       "\t<tr><td>1.17</td></tr>\n",
       "</tbody>\n",
       "</table>\n"
      ],
      "text/latex": [
       "A data.frame: 1 × 1\n",
       "\\begin{tabular}{l}\n",
       " RMSE\\\\\n",
       " <dbl>\\\\\n",
       "\\hline\n",
       "\t 1.17\\\\\n",
       "\\end{tabular}\n"
      ],
      "text/markdown": [
       "\n",
       "A data.frame: 1 × 1\n",
       "\n",
       "| RMSE &lt;dbl&gt; |\n",
       "|---|\n",
       "| 1.17 |\n",
       "\n"
      ],
      "text/plain": [
       "  RMSE\n",
       "1 1.17"
      ]
     },
     "metadata": {},
     "output_type": "display_data"
    }
   ],
   "source": [
    "# calculate the RMSE\n",
    "pois_rmse <- responses %>% summarize(RMSE = sqrt(mean((actuals - predictions)^2))) %>% round(2)\n",
    "pois_rmse"
   ]
  },
  {
   "cell_type": "markdown",
   "id": "65f80d9c-2478-46ff-93f1-208a0cf3f35d",
   "metadata": {},
   "source": [
    "After calculating the RMSE of our optimal model with test data, we can see on average the difference between our predictions is $1.17$, or better than said is $1$ unit of this transformed scale of per $1000$ daily bike rental counts. Since that is how we transformed our response variable `cnt` to this scaled version by dividing $1000$, then rounded to nearest whole integer."
   ]
  },
  {
   "cell_type": "markdown",
   "id": "82db7cf6-76e4-4ad0-a18f-85081415ebfc",
   "metadata": {
    "jp-MarkdownHeadingCollapsed": true,
    "tags": []
   },
   "source": [
    "### TRASH?"
   ]
  },
  {
   "cell_type": "markdown",
   "id": "acdf2a93-fb6c-48cd-a11d-62c358908f93",
   "metadata": {},
   "source": [
    "Now we are training a Linear Regression (LR) model, and a Poisson Regression (PR) model with all variables to compare their in-sample error."
   ]
  },
  {
   "cell_type": "code",
   "execution_count": 18,
   "id": "58452825-34b9-46a3-b7d4-5f6810d917bc",
   "metadata": {},
   "outputs": [],
   "source": [
    "# calculate the deviance\n",
    "# deviance <- 2 * sum(dpois(Y_test, preds, log = TRUE))\n",
    "# deviance"
   ]
  },
  {
   "cell_type": "code",
   "execution_count": 19,
   "id": "50cea0ce-2792-4c6d-9b93-56e25dbf94bd",
   "metadata": {},
   "outputs": [],
   "source": [
    "# set.seed(1010)\n",
    "# n <- 100\n",
    "# p <- 200\n",
    "# X <- matrix(data = rnorm(n*p, mean = 0, sd = 1), nrow = n, ncol = p)\n",
    "# eps <- rnorm(n, mean = 0, sd = 1)\n",
    "# beta_star <- c(rep(5, 5), c(5, -5, 2, 0, 0), \n",
    "#                rep(-5, 5), c(2, -3, 8, 0, 0), rep(0, (p - 20)))\n",
    "# y <- X %*% beta_star + eps\n",
    "# groups <- rep(1:(p / 5), each = 5)\n",
    "# fit1 <- sparsegl(X, y, group = groups)\n",
    "# plot(fit1, y_axis = \"coef\", x_axis = \"penalty\", add_legend = FALSE)"
   ]
  },
  {
   "cell_type": "code",
   "execution_count": 20,
   "id": "3c23aa97-086f-4a23-a8da-0df4943dcc68",
   "metadata": {},
   "outputs": [],
   "source": [
    "# # Get design matrix to ease our calculations\n",
    "# # remove the response variable to have design matrix\n",
    "# #X <- bike_train %>% select(-cnt) %>% as.matrix()\n",
    "# # get the response to ease our calculations\n",
    "# #y <- bike_train$cnt\n",
    "                                               \n",
    "# # Forward selection \n",
    "# forward <- regsubsets(cnt ~ . , data = bike_train,  method = \"forward\",\n",
    "#                      nbest = 2)\n",
    "# # Backward selection\n",
    "# #tidy(forward) %>% arrange(desc(adj.r.squared))"
   ]
  },
  {
   "cell_type": "markdown",
   "id": "e7dec294-4973-40f9-b659-d7ea47f5a053",
   "metadata": {
    "tags": []
   },
   "source": [
    "#### LASSO"
   ]
  },
  {
   "cell_type": "code",
   "execution_count": 21,
   "id": "f428bde6-9098-4036-b5b4-87e71167f8e7",
   "metadata": {},
   "outputs": [],
   "source": [
    "# set.seed(20221210)\n",
    "# # Separating X and y\n",
    "# X <- model.matrix(pois, bike_train)[, -1]\n",
    "# Y <- as.matrix(bike_train$cnt, ncol = 1)\n",
    "# # Fitting a 10 fold cv glmnet with default lambda values\n",
    "# cv_lasso <- cv.glmnet(\n",
    "#     x = X,\n",
    "#     y = Y,\n",
    "#     alpha = 1,\n",
    "#     family = \"poisson\",\n",
    "#     type.measure = \"mse\",\n",
    "#     nfolds = 10\n",
    "# )"
   ]
  },
  {
   "cell_type": "code",
   "execution_count": 22,
   "id": "efc831be-fe88-4b68-946e-8ca5f7a8ae39",
   "metadata": {},
   "outputs": [],
   "source": [
    "# # function to calculate rmse\n",
    "# rmse <- function(pred, truth) {\n",
    "#     sqrt(mean(sum((pred - truth)^2)))\n",
    "# }\n",
    "# # fit a lR model\n",
    "# slr <- lm(cnt ~ ., data = bike_train)\n",
    "# # fit a poisson model\n",
    "# pois <- glm(formula = cnt ~ . , data = bike_train, family = \"poisson\")\n",
    "\n",
    "# # merge results and display in table\n",
    "# baselines <- data.frame(truth = bike_train$cnt, lr_pred = predict(slr),\n",
    "#                        poisson_pred = predict(pois, type = \"response\")) %>%\n",
    "#              mutate_if(is.numeric, round, 0)\n",
    "# head(baselines)\n",
    "\n",
    "# # comparison of rmses\n",
    "# rmse_comp <- baselines %>%\n",
    "#              summarize(LR = rmse(pred = lr_pred, truth = truth),\n",
    "#                        Poisson = rmse(pred = poisson_pred, truth = truth)) %>%\n",
    "#              pivot_longer(everything(),\n",
    "#                           names_to = \"Model\",\n",
    "#                           values_to = \"RMSE\") %>%\n",
    "#              mutate_if(is.numeric, round, 0)\n",
    "\n",
    "# rmse_comp"
   ]
  },
  {
   "cell_type": "markdown",
   "id": "a2f0f565-2662-4d2f-8503-612d9c998a1e",
   "metadata": {},
   "source": [
    "**Add some explanations above?**"
   ]
  },
  {
   "cell_type": "code",
   "execution_count": 23,
   "id": "ce0b7a5c-8946-44c1-a273-89f85ea101d4",
   "metadata": {},
   "outputs": [],
   "source": [
    "# # Plot the lasso mse (y-axis) vs log_lambda(x-axis) \n",
    "# plot(cv_lasso)"
   ]
  },
  {
   "cell_type": "code",
   "execution_count": 24,
   "id": "f350d731-4155-4fc8-8e4f-38c31f8b045c",
   "metadata": {},
   "outputs": [],
   "source": [
    "# # fit the 1se lasso\n",
    "# bike_lasso_1se <- glmnet(\n",
    "#     x = X,\n",
    "#     y = Y,\n",
    "#     alpha = 1,\n",
    "#     family = \"poisson\",\n",
    "#     lambda = round(cv_lasso$lambda.1se, 4)\n",
    "# )\n",
    "# # get the coefficients\n",
    "# lasso_coef <- coef(bike_lasso_1se)\n",
    "# data.frame(covariates = lasso_coef@Dimnames[[1]][which(lasso_coef != 0)],\n",
    "#           beta = lasso_coef@x[which(lasso_coef != 0)])[-1,] %>%\n",
    "#     drop_na()"
   ]
  },
  {
   "cell_type": "code",
   "execution_count": 25,
   "id": "14378007-3906-4170-b8d8-383330ed2535",
   "metadata": {},
   "outputs": [],
   "source": [
    "# poisson_lasso <- glm(formula = cnt ~ weathersit + temp + yr, data = bike_test,\n",
    "#     family =\"poisson\"\n",
    "#     )\n",
    "\n",
    "# rmse(predict(poisson_lasso, type = \"response\", newdata = bike_test), bike_test$cnt)"
   ]
  },
  {
   "cell_type": "code",
   "execution_count": 26,
   "id": "ae815cef-1a5f-4c2d-9e83-38547c6603ea",
   "metadata": {},
   "outputs": [],
   "source": [
    "# rmse(predict(slr, newdata = bike_test), bike_test$cnt)"
   ]
  },
  {
   "cell_type": "code",
   "execution_count": 27,
   "id": "c94d9fc3-22ae-41bc-a606-cb1a03984d67",
   "metadata": {},
   "outputs": [],
   "source": [
    "# Separate X and y of test data\n",
    "#model_matrix_X_test <- model.matrix(object = pois, data = bike_test)[,-1]\n",
    "# Selected X from lasso\n",
    "#X_lasso <- model_matrix_X_test[, !colnames(model_matrix_X_test) %in% c(\"workingday1\", \"hum\", \"windspeed\")]\n",
    "# fit the glmnet\n",
    "#test_lasso <- glmnet(\n",
    "#    x = X_lasso,\n",
    "#    y = Y,\n",
    "    "
   ]
  },
  {
   "cell_type": "markdown",
   "id": "4287f80b-bcb2-4b55-9da8-e82b6de53e2d",
   "metadata": {},
   "source": [
    "**Add explanations here as well ^**"
   ]
  },
  {
   "cell_type": "markdown",
   "id": "12d9425c-837f-48fe-988f-490833592c6b",
   "metadata": {},
   "source": [
    "### 3.4 Results"
   ]
  },
  {
   "cell_type": "markdown",
   "id": "04916819-795c-409f-840a-e632d9be67c5",
   "metadata": {
    "tags": []
   },
   "source": [
    "## 4. References"
   ]
  },
  {
   "cell_type": "markdown",
   "id": "cc29b70e-6802-4844-b330-818b5c834b3d",
   "metadata": {},
   "source": [
    "US EPA, O. (2016). *Greenhouse Gas Emissions from a Typical Passenger Vehicle*. US EPA. https://www.epa.gov/greenvehicles/greenhouse-gas-emissions-typical-passenger-vehicle-0\n",
    "\n",
    "Lin, L., He, Z., & Peeta, S. (2018). *Predicting station-level hourly demand in a large-scale bike-sharing network: A graph convolutional neural network approach* Transportation Research. Part C, Emerging Technologies, 97, 258-276. https://doi.org/10.1016/j.trc.2018.10.011\n",
    "\n",
    "Bike Sharing Dataset Data Set . UCI Machine Learning Repository: Bike sharing dataset data set. (n.d.). Retrieved October 31, 2022, from https://archive.ics.uci.edu/ml/datasets/bike+sharing+dataset\n",
    "\n",
    "Zhang, S., He, K., Dong, S., & Zhou, J. (2016, February 15). Modeling the distribution characteristics of urban public bicycle rental duration. Discrete Dynamics in Nature and Society. Retrieved October 26, 2022, from https://www.hindawi.com/journals/ddns/2016/8947525/\n",
    "\n",
    "Yang, L., Shen, Q., & Li, Z. (2016, July 19). Comparing travel mode and trip chain choices between holidays and weekdays. Transportation Research Part A: Policy and Practice. Retrieved October 26, 2022, from https://www.sciencedirect.com/science/article/pii/S0965856416301781\n"
   ]
  }
 ],
 "metadata": {
  "kernelspec": {
   "display_name": "R",
   "language": "R",
   "name": "ir"
  },
  "language_info": {
   "codemirror_mode": "r",
   "file_extension": ".r",
   "mimetype": "text/x-r-source",
   "name": "R",
   "pygments_lexer": "r",
   "version": "4.2.2"
  }
 },
 "nbformat": 4,
 "nbformat_minor": 5
}
